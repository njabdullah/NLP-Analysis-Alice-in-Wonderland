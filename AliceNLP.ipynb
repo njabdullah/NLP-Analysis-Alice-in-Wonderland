{
 "cells": [
  {
   "cell_type": "markdown",
   "metadata": {},
   "source": [
    "### Abdullah Nasih Jasir (Абдулла Насих Джасир)\n",
    "---"
   ]
  },
  {
   "cell_type": "markdown",
   "metadata": {},
   "source": [
    "# **BIOLOGICAL RESPONSE**\n",
    "\n",
    "This project is used to predict activity field of Biological Response of The Molecul. I use four different methods\n",
    "1. Small Decision Tree\n",
    "2. Deep Decision Tree\n",
    "3. Random Forest on Small Trees\n",
    "4. Random Forest on Deep Trees\n",
    "---"
   ]
  },
  {
   "cell_type": "code",
   "execution_count": 1,
   "metadata": {},
   "outputs": [],
   "source": [
    "import pandas as pd"
   ]
  },
  {
   "cell_type": "markdown",
   "metadata": {},
   "source": [
    "# Data Wrangling"
   ]
  },
  {
   "cell_type": "code",
   "execution_count": null,
   "metadata": {},
   "outputs": [],
   "source": []
  }
 ],
 "metadata": {
  "language_info": {
   "name": "python"
  }
 },
 "nbformat": 4,
 "nbformat_minor": 2
}
