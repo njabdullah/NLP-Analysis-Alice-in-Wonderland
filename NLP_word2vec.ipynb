{
 "cells": [
  {
   "cell_type": "markdown",
   "metadata": {},
   "source": [
    "# Word2Vec model\n",
    "***\n",
    "\n",
    "To work with word embeddings you can usepretrained vectors.\n",
    "\n",
    "Pretrain model was downloaded from (you can google \"GoogleNews-vectors-negative300\"):\n",
    "\n",
    "https://code.google.com/archive/p/word2vec/\n",
    "\n",
    "Word's cluster example:\n",
    "\n",
    "https://towardsdatascience.com/google-news-and-leo-tolstoy-visualizing-word2vec-word-embeddings-with-t-sne-11558d8bd4d"
   ]
  },
  {
   "cell_type": "code",
   "execution_count": 3,
   "metadata": {},
   "outputs": [],
   "source": [
    "# !pip install gensim"
   ]
  },
  {
   "cell_type": "code",
   "execution_count": 1,
   "metadata": {},
   "outputs": [],
   "source": [
    "import gensim"
   ]
  },
  {
   "cell_type": "code",
   "execution_count": 2,
   "metadata": {},
   "outputs": [],
   "source": [
    "# Load Google's pre-trained Word2Vec model.\n",
    "model = gensim.models.KeyedVectors.load_word2vec_format(\n",
    "    \"/Users/soa/gensim-data/GoogleNews-vectors-negative300.bin\", binary=True\n",
    ")"
   ]
  },
  {
   "cell_type": "code",
   "execution_count": 3,
   "metadata": {},
   "outputs": [
    {
     "data": {
      "text/plain": [
       "(3000000, 300)"
      ]
     },
     "execution_count": 3,
     "metadata": {},
     "output_type": "execute_result"
    }
   ],
   "source": [
    "# get the shape of embedding matrix\n",
    "model.vectors.shape"
   ]
  },
  {
   "cell_type": "code",
   "execution_count": 5,
   "metadata": {},
   "outputs": [
    {
     "data": {
      "text/plain": [
       "['</s>',\n",
       " 'in',\n",
       " 'for',\n",
       " 'that',\n",
       " 'is',\n",
       " 'on',\n",
       " '##',\n",
       " 'The',\n",
       " 'with',\n",
       " 'said',\n",
       " 'was',\n",
       " 'the',\n",
       " 'at',\n",
       " 'not',\n",
       " 'as',\n",
       " 'it',\n",
       " 'be',\n",
       " 'from',\n",
       " 'by',\n",
       " 'are']"
      ]
     },
     "execution_count": 5,
     "metadata": {},
     "output_type": "execute_result"
    }
   ],
   "source": [
    "# get vocab\n",
    "# list(model.vocab)[:20] < v4.0.0\n",
    "list(model.key_to_index)[:20]"
   ]
  },
  {
   "cell_type": "code",
   "execution_count": 6,
   "metadata": {},
   "outputs": [
    {
     "data": {
      "text/plain": [
       "array([-9.27734375e-02,  8.10546875e-02, -1.00097656e-01,  2.07031250e-01,\n",
       "        1.72119141e-02, -1.02050781e-01,  1.18164062e-01, -1.92382812e-01,\n",
       "       -2.53906250e-02,  1.17187500e-01, -2.42919922e-02, -4.73022461e-03,\n",
       "       -1.48437500e-01,  2.28271484e-02,  1.08398438e-01,  4.45556641e-03,\n",
       "        4.57031250e-01,  1.66015625e-01,  1.37695312e-01,  1.33789062e-01,\n",
       "        1.38671875e-01,  1.82617188e-01,  2.45117188e-01, -1.77734375e-01,\n",
       "        1.90429688e-01, -1.50390625e-01, -6.10351562e-03,  6.83593750e-02,\n",
       "       -5.09643555e-03,  4.78515625e-02,  4.73632812e-02, -1.62109375e-01,\n",
       "       -1.33789062e-01,  2.63671875e-01,  1.17187500e-01,  1.90734863e-03,\n",
       "       -1.90429688e-02, -8.30078125e-02,  1.15234375e-01,  2.07031250e-01,\n",
       "        2.46093750e-01,  2.91748047e-02, -8.48388672e-03,  2.45117188e-01,\n",
       "        3.35937500e-01, -1.73828125e-01, -7.47070312e-02, -2.79541016e-02,\n",
       "        1.78710938e-01, -4.39453125e-02,  6.46972656e-03, -1.60156250e-01,\n",
       "        1.68945312e-01,  1.49414062e-01, -1.03515625e-01,  1.21582031e-01,\n",
       "       -1.04492188e-01,  2.55859375e-01,  1.50146484e-02, -1.67968750e-01,\n",
       "       -2.40234375e-01,  1.48925781e-02, -2.24609375e-01, -1.13281250e-01,\n",
       "        1.01928711e-02,  3.39355469e-02, -1.00097656e-01,  7.37304688e-02,\n",
       "       -1.92382812e-01,  1.08398438e-01,  1.11328125e-01, -8.83789062e-02,\n",
       "        6.49414062e-02,  1.12304688e-01, -1.50146484e-02,  9.82666016e-03,\n",
       "        2.14843750e-01,  5.34667969e-02, -1.32812500e-01,  3.80859375e-02,\n",
       "       -2.79296875e-01,  4.27246094e-02,  1.04003906e-01, -1.00097656e-01,\n",
       "       -1.04980469e-01, -1.22558594e-01, -2.02148438e-01, -7.66601562e-02,\n",
       "       -8.34960938e-02, -1.29882812e-01, -1.36108398e-02,  3.58886719e-02,\n",
       "        4.93164062e-02,  4.68750000e-02, -2.88085938e-02, -5.00488281e-02,\n",
       "       -4.31640625e-01,  1.15234375e-01,  7.08007812e-02,  2.52685547e-02,\n",
       "       -1.11328125e-01, -7.32421875e-02,  2.53906250e-02,  5.00488281e-03,\n",
       "       -8.05664062e-02, -1.87500000e-01, -1.57226562e-01, -6.92749023e-03,\n",
       "       -3.78417969e-02, -5.43212891e-03, -9.81445312e-02,  3.80859375e-02,\n",
       "       -1.15234375e-01,  6.68945312e-02,  4.66308594e-02,  1.61132812e-02,\n",
       "       -1.34887695e-02,  1.64794922e-02, -1.97753906e-02,  2.17773438e-01,\n",
       "       -1.22680664e-02,  5.66406250e-02, -2.02148438e-01,  1.03515625e-01,\n",
       "        9.03320312e-02,  4.41894531e-02, -1.04492188e-01, -2.20703125e-01,\n",
       "        9.03320312e-02,  1.06933594e-01,  6.83593750e-02, -1.00708008e-02,\n",
       "       -1.04492188e-01, -7.95898438e-02, -2.69775391e-02,  7.61718750e-02,\n",
       "        8.64257812e-02,  1.15722656e-01, -1.87500000e-01, -8.30078125e-02,\n",
       "        1.69921875e-01, -1.49414062e-01, -1.49536133e-02,  4.63867188e-02,\n",
       "        7.17773438e-02,  1.59179688e-01, -1.87988281e-02, -9.37500000e-02,\n",
       "        1.07421875e-02, -1.51367188e-01,  2.04101562e-01, -1.58203125e-01,\n",
       "        1.24511719e-02,  7.56835938e-02, -2.55584717e-04,  6.07910156e-02,\n",
       "        1.67968750e-01,  1.00585938e-01, -1.96289062e-01, -1.36108398e-02,\n",
       "        5.37109375e-02, -1.28936768e-03,  4.46777344e-02, -8.48388672e-03,\n",
       "        8.15429688e-02, -2.23632812e-01, -8.39843750e-02,  4.45556641e-03,\n",
       "       -2.63671875e-01,  1.34887695e-02, -3.22265625e-02, -1.03149414e-02,\n",
       "       -9.03320312e-02, -1.31835938e-01, -2.10937500e-01,  3.49121094e-02,\n",
       "       -2.23632812e-01, -2.49023438e-02,  9.81445312e-02,  4.37011719e-02,\n",
       "        4.41894531e-02, -1.86523438e-01,  2.87109375e-01,  2.03125000e-01,\n",
       "       -2.55859375e-01, -2.14843750e-01, -1.86523438e-01, -2.39257812e-01,\n",
       "       -1.66015625e-02,  2.34375000e-02,  6.05468750e-02,  9.81445312e-02,\n",
       "        2.04101562e-01,  6.93359375e-02, -2.96875000e-01, -8.93554688e-02,\n",
       "        2.09045410e-03, -1.87500000e-01,  8.97216797e-03, -3.97949219e-02,\n",
       "       -5.88378906e-02,  6.12792969e-02, -1.18652344e-01, -6.34765625e-02,\n",
       "        1.80664062e-01, -5.93261719e-02, -2.03125000e-01,  5.39550781e-02,\n",
       "       -6.64062500e-02,  1.67968750e-01,  5.98144531e-02,  1.62109375e-01,\n",
       "       -1.24511719e-01,  1.83105469e-02,  1.29882812e-01, -6.25000000e-02,\n",
       "        3.65234375e-01,  1.15722656e-01, -1.32812500e-01,  2.11914062e-01,\n",
       "        3.00292969e-02, -9.17968750e-02, -5.17578125e-02, -2.08007812e-01,\n",
       "       -6.68945312e-02,  1.75781250e-02, -1.41601562e-01, -1.96289062e-01,\n",
       "        1.05468750e-01, -7.91015625e-02,  3.66210938e-03, -1.20117188e-01,\n",
       "        1.81640625e-01,  6.25000000e-02, -8.49609375e-02,  1.69921875e-01,\n",
       "        1.72851562e-01, -1.11816406e-01,  2.05078125e-01,  7.08007812e-02,\n",
       "        5.27343750e-02, -3.80859375e-02,  3.93066406e-02,  1.37695312e-01,\n",
       "       -2.12402344e-02,  1.25976562e-01,  2.14843750e-01,  1.88476562e-01,\n",
       "        9.57031250e-02, -6.54296875e-02,  6.71386719e-04,  7.32421875e-02,\n",
       "       -1.59263611e-04,  2.12890625e-01, -1.20239258e-02,  6.68945312e-02,\n",
       "        1.14257812e-01,  6.78710938e-02, -1.62109375e-01,  5.32226562e-02,\n",
       "       -1.43554688e-01,  1.56250000e-01,  1.01074219e-01,  1.15722656e-01,\n",
       "        5.02929688e-02, -7.12890625e-02, -4.54101562e-02, -7.95898438e-02,\n",
       "       -1.08886719e-01, -4.02832031e-02, -1.69921875e-01, -9.61914062e-02,\n",
       "       -9.37500000e-02, -3.98437500e-01,  1.29882812e-01, -1.74804688e-01,\n",
       "       -7.86132812e-02, -1.58203125e-01,  4.68750000e-02,  5.76171875e-02,\n",
       "        6.64062500e-02,  1.14257812e-01, -1.50390625e-01,  1.15722656e-01,\n",
       "        5.07812500e-02,  1.12304688e-01,  6.44531250e-02,  3.75976562e-02,\n",
       "        1.10839844e-01, -2.34375000e-02, -4.76074219e-02,  2.62451172e-02,\n",
       "       -2.19726562e-02, -1.88476562e-01,  5.63964844e-02, -3.02734375e-01,\n",
       "       -1.68945312e-01,  1.84326172e-02,  1.04003906e-01,  9.03320312e-02],\n",
       "      dtype=float32)"
      ]
     },
     "execution_count": 6,
     "metadata": {},
     "output_type": "execute_result"
    }
   ],
   "source": [
    "model[\"thanks\"]"
   ]
  },
  {
   "cell_type": "code",
   "execution_count": 7,
   "metadata": {},
   "outputs": [
    {
     "name": "stdout",
     "output_type": "stream",
     "text": [
      "[('Thanks', 0.7244948744773865), ('THANKS', 0.4840734004974365), ('courtesy', 0.4766530692577362), ('thank', 0.4723905920982361), ('benefitted', 0.4631054103374481), ('kudos', 0.45405685901641846), ('despite', 0.45255333185195923), ('congrats', 0.4482288658618927), ('benefited', 0.44743144512176514), ('grateful', 0.4350835680961609)]\n"
     ]
    }
   ],
   "source": [
    "similar_words = model.most_similar(\"thanks\")\n",
    "print(similar_words)"
   ]
  },
  {
   "cell_type": "code",
   "execution_count": 8,
   "metadata": {},
   "outputs": [
    {
     "name": "stdout",
     "output_type": "stream",
     "text": [
      "0.24447691\n"
     ]
    }
   ],
   "source": [
    "similarity_two_words = model.similarity(\"please\", \"see\")\n",
    "print(similarity_two_words)"
   ]
  },
  {
   "cell_type": "code",
   "execution_count": 52,
   "metadata": {},
   "outputs": [],
   "source": [
    "keys = [\n",
    "    \"Paris\",\n",
    "    \"Python\",\n",
    "    \"Sunday\",\n",
    "    \"Tolstoy\",\n",
    "    \"Twitter\",\n",
    "    \"food\",\n",
    "    \"iOS\",\n",
    "]"
   ]
  },
  {
   "cell_type": "code",
   "execution_count": 53,
   "metadata": {},
   "outputs": [
    {
     "data": {
      "text/plain": [
       "7"
      ]
     },
     "execution_count": 53,
     "metadata": {},
     "output_type": "execute_result"
    }
   ],
   "source": [
    "len(keys)"
   ]
  },
  {
   "cell_type": "markdown",
   "metadata": {},
   "source": [
    "Let us select a few words from the vocabulary of the pre-trained Google News model and prepare word vectors for visualization."
   ]
  },
  {
   "cell_type": "code",
   "execution_count": 54,
   "metadata": {},
   "outputs": [],
   "source": [
    "embeddings = []\n",
    "words = []\n",
    "clusters = []\n",
    "\n",
    "for word in keys:\n",
    "    for similar_word, _ in model.most_similar(word, topn=10):\n",
    "        words.append(similar_word)\n",
    "        embeddings.append(model[similar_word])\n",
    "        clusters.append(word)"
   ]
  },
  {
   "cell_type": "code",
   "execution_count": 55,
   "metadata": {},
   "outputs": [],
   "source": [
    "import numpy"
   ]
  },
  {
   "cell_type": "code",
   "execution_count": 56,
   "metadata": {},
   "outputs": [],
   "source": [
    "embeddings = numpy.array(embeddings)"
   ]
  },
  {
   "cell_type": "code",
   "execution_count": 63,
   "metadata": {},
   "outputs": [],
   "source": [
    "# words"
   ]
  },
  {
   "cell_type": "markdown",
   "metadata": {},
   "source": [
    "TSNE representation"
   ]
  },
  {
   "cell_type": "code",
   "execution_count": 57,
   "metadata": {},
   "outputs": [],
   "source": [
    "from sklearn.manifold import TSNE"
   ]
  },
  {
   "cell_type": "code",
   "execution_count": 58,
   "metadata": {},
   "outputs": [],
   "source": [
    "tsne = TSNE(perplexity=15, n_components=2,n_iter=3500, random_state=32)\n",
    "embeddings = tsne.fit_transform(embeddings)"
   ]
  },
  {
   "cell_type": "code",
   "execution_count": 59,
   "metadata": {},
   "outputs": [],
   "source": [
    "import plotly.express as px"
   ]
  },
  {
   "cell_type": "code",
   "execution_count": 60,
   "metadata": {},
   "outputs": [
    {
     "data": {
      "application/vnd.plotly.v1+json": {
       "config": {
        "plotlyServerURL": "https://plot.ly"
       },
       "data": [
        {
         "hovertemplate": "color=Paris<br>x=%{x}<br>y=%{y}<extra></extra>",
         "legendgroup": "Paris",
         "marker": {
          "color": "#636efa",
          "symbol": "circle"
         },
         "mode": "markers",
         "name": "Paris",
         "orientation": "v",
         "showlegend": true,
         "textposition": "top center",
         "type": "scatter",
         "x": [
          -0.779754102230072,
          0.056955184787511826,
          -0.1104932501912117,
          1.1375248432159424,
          -0.732507586479187,
          -0.7420397996902466,
          0.8677317500114441,
          0.06419198215007782,
          0.49653562903404236,
          -0.3167882263660431
         ],
         "xaxis": "x",
         "y": [
          -0.98616623878479,
          0.1143478974699974,
          0.9114890098571777,
          -0.4864703416824341,
          1.1976125240325928,
          0.3804958760738373,
          1.2672711610794067,
          1.3420519828796387,
          0.5591169595718384,
          0.49992966651916504
         ],
         "yaxis": "y"
        },
        {
         "hovertemplate": "color=Python<br>x=%{x}<br>y=%{y}<extra></extra>",
         "legendgroup": "Python",
         "marker": {
          "color": "#EF553B",
          "symbol": "circle"
         },
         "mode": "markers",
         "name": "Python",
         "orientation": "v",
         "showlegend": true,
         "textposition": "top center",
         "type": "scatter",
         "x": [
          -5.180268287658691,
          -4.578372955322266,
          -6.0506696701049805,
          -4.74181604385376,
          -4.029825210571289,
          -4.103354454040527,
          -5.296695709228516,
          -4.263185501098633,
          -6.305078029632568,
          -5.339724540710449
         ],
         "xaxis": "x",
         "y": [
          -1.1590428352355957,
          -1.652467966079712,
          -1.482826590538025,
          -3.0310163497924805,
          -1.5302813053131104,
          -0.747410774230957,
          -2.4771676063537598,
          -1.0343432426452637,
          -2.955019474029541,
          -0.2327825129032135
         ],
         "yaxis": "y"
        },
        {
         "hovertemplate": "color=Sunday<br>x=%{x}<br>y=%{y}<extra></extra>",
         "legendgroup": "Sunday",
         "marker": {
          "color": "#00cc96",
          "symbol": "circle"
         },
         "mode": "markers",
         "name": "Sunday",
         "orientation": "v",
         "showlegend": true,
         "textposition": "top center",
         "type": "scatter",
         "x": [
          3.5606439113616943,
          4.339608192443848,
          4.160371780395508,
          4.679421901702881,
          4.863581657409668,
          4.441736698150635,
          3.349820852279663,
          3.802670955657959,
          5.410578727722168,
          5.626404285430908
         ],
         "xaxis": "x",
         "y": [
          1.6390382051467896,
          1.8670463562011719,
          1.1083406209945679,
          1.5403242111206055,
          1.2930163145065308,
          0.867760181427002,
          2.8670899868011475,
          2.947718858718872,
          2.3634345531463623,
          0.4276009202003479
         ],
         "yaxis": "y"
        },
        {
         "hovertemplate": "color=Tolstoy<br>x=%{x}<br>y=%{y}<extra></extra>",
         "legendgroup": "Tolstoy",
         "marker": {
          "color": "#ab63fa",
          "symbol": "circle"
         },
         "mode": "markers",
         "name": "Tolstoy",
         "orientation": "v",
         "showlegend": true,
         "textposition": "top center",
         "type": "scatter",
         "x": [
          -3.184540271759033,
          -2.1706008911132812,
          -2.582606315612793,
          -1.64967679977417,
          -0.9059668779373169,
          -1.2303134202957153,
          -0.28821322321891785,
          -2.6586790084838867,
          -1.862805962562561,
          -1.2843760251998901
         ],
         "xaxis": "x",
         "y": [
          3.5386524200439453,
          3.198141574859619,
          6.0167412757873535,
          3.2575526237487793,
          2.943760633468628,
          5.739903450012207,
          4.141168117523193,
          6.0609869956970215,
          4.5827956199646,
          4.622249603271484
         ],
         "yaxis": "y"
        },
        {
         "hovertemplate": "color=Twitter<br>x=%{x}<br>y=%{y}<extra></extra>",
         "legendgroup": "Twitter",
         "marker": {
          "color": "#FFA15A",
          "symbol": "circle"
         },
         "mode": "markers",
         "name": "Twitter",
         "orientation": "v",
         "showlegend": true,
         "textposition": "top center",
         "type": "scatter",
         "x": [
          5.387767314910889,
          5.805980205535889,
          4.1366682052612305,
          4.567704677581787,
          3.9671268463134766,
          4.412398338317871,
          5.427578449249268,
          3.7393853664398193,
          4.027704238891602,
          5.631469249725342
         ],
         "xaxis": "x",
         "y": [
          9.835887908935547,
          9.170615196228027,
          8.882182121276855,
          10.612455368041992,
          11.038237571716309,
          10.350208282470703,
          11.155242919921875,
          10.909194946289062,
          9.186101913452148,
          11.330402374267578
         ],
         "yaxis": "y"
        },
        {
         "hovertemplate": "color=food<br>x=%{x}<br>y=%{y}<extra></extra>",
         "legendgroup": "food",
         "marker": {
          "color": "#19d3f3",
          "symbol": "circle"
         },
         "mode": "markers",
         "name": "food",
         "orientation": "v",
         "showlegend": true,
         "textposition": "top center",
         "type": "scatter",
         "x": [
          2.281439781188965,
          0.7731828093528748,
          0.7139724493026733,
          3.474287271499634,
          0.5912778973579407,
          2.8612213134765625,
          0.49367067217826843,
          0.9658429026603699,
          2.764754056930542,
          3.6331849098205566
         ],
         "xaxis": "x",
         "y": [
          -4.718934059143066,
          -2.521388292312622,
          -5.75601053237915,
          -3.16617751121521,
          -6.0217156410217285,
          -3.418165683746338,
          -5.667943954467773,
          -6.821839809417725,
          -4.366796016693115,
          -3.068984031677246
         ],
         "yaxis": "y"
        },
        {
         "hovertemplate": "color=iOS<br>x=%{x}<br>y=%{y}<extra></extra>",
         "legendgroup": "iOS",
         "marker": {
          "color": "#FF6692",
          "symbol": "circle"
         },
         "mode": "markers",
         "name": "iOS",
         "orientation": "v",
         "showlegend": true,
         "textposition": "top center",
         "type": "scatter",
         "x": [
          -10.287941932678223,
          -10.032815933227539,
          -9.743504524230957,
          -9.19796371459961,
          -8.874974250793457,
          -8.449601173400879,
          -11.03790283203125,
          -11.112839698791504,
          -8.946189880371094,
          -11.094746589660645
         ],
         "xaxis": "x",
         "y": [
          1.260501503944397,
          0.2352321892976761,
          1.9719312191009521,
          0.5510613918304443,
          0.16052645444869995,
          1.0200384855270386,
          0.452585369348526,
          0.6140643954277039,
          2.4088382720947266,
          1.805776596069336
         ],
         "yaxis": "y"
        }
       ],
       "layout": {
        "autosize": true,
        "legend": {
         "title": {
          "text": "color"
         },
         "tracegroupgap": 0
        },
        "margin": {
         "t": 60
        },
        "template": {
         "data": {
          "bar": [
           {
            "error_x": {
             "color": "#2a3f5f"
            },
            "error_y": {
             "color": "#2a3f5f"
            },
            "marker": {
             "line": {
              "color": "white",
              "width": 0.5
             },
             "pattern": {
              "fillmode": "overlay",
              "size": 10,
              "solidity": 0.2
             }
            },
            "type": "bar"
           }
          ],
          "barpolar": [
           {
            "marker": {
             "line": {
              "color": "white",
              "width": 0.5
             },
             "pattern": {
              "fillmode": "overlay",
              "size": 10,
              "solidity": 0.2
             }
            },
            "type": "barpolar"
           }
          ],
          "carpet": [
           {
            "aaxis": {
             "endlinecolor": "#2a3f5f",
             "gridcolor": "#C8D4E3",
             "linecolor": "#C8D4E3",
             "minorgridcolor": "#C8D4E3",
             "startlinecolor": "#2a3f5f"
            },
            "baxis": {
             "endlinecolor": "#2a3f5f",
             "gridcolor": "#C8D4E3",
             "linecolor": "#C8D4E3",
             "minorgridcolor": "#C8D4E3",
             "startlinecolor": "#2a3f5f"
            },
            "type": "carpet"
           }
          ],
          "choropleth": [
           {
            "colorbar": {
             "outlinewidth": 0,
             "ticks": ""
            },
            "type": "choropleth"
           }
          ],
          "contour": [
           {
            "colorbar": {
             "outlinewidth": 0,
             "ticks": ""
            },
            "colorscale": [
             [
              0,
              "#0d0887"
             ],
             [
              0.1111111111111111,
              "#46039f"
             ],
             [
              0.2222222222222222,
              "#7201a8"
             ],
             [
              0.3333333333333333,
              "#9c179e"
             ],
             [
              0.4444444444444444,
              "#bd3786"
             ],
             [
              0.5555555555555556,
              "#d8576b"
             ],
             [
              0.6666666666666666,
              "#ed7953"
             ],
             [
              0.7777777777777778,
              "#fb9f3a"
             ],
             [
              0.8888888888888888,
              "#fdca26"
             ],
             [
              1,
              "#f0f921"
             ]
            ],
            "type": "contour"
           }
          ],
          "contourcarpet": [
           {
            "colorbar": {
             "outlinewidth": 0,
             "ticks": ""
            },
            "type": "contourcarpet"
           }
          ],
          "heatmap": [
           {
            "colorbar": {
             "outlinewidth": 0,
             "ticks": ""
            },
            "colorscale": [
             [
              0,
              "#0d0887"
             ],
             [
              0.1111111111111111,
              "#46039f"
             ],
             [
              0.2222222222222222,
              "#7201a8"
             ],
             [
              0.3333333333333333,
              "#9c179e"
             ],
             [
              0.4444444444444444,
              "#bd3786"
             ],
             [
              0.5555555555555556,
              "#d8576b"
             ],
             [
              0.6666666666666666,
              "#ed7953"
             ],
             [
              0.7777777777777778,
              "#fb9f3a"
             ],
             [
              0.8888888888888888,
              "#fdca26"
             ],
             [
              1,
              "#f0f921"
             ]
            ],
            "type": "heatmap"
           }
          ],
          "heatmapgl": [
           {
            "colorbar": {
             "outlinewidth": 0,
             "ticks": ""
            },
            "colorscale": [
             [
              0,
              "#0d0887"
             ],
             [
              0.1111111111111111,
              "#46039f"
             ],
             [
              0.2222222222222222,
              "#7201a8"
             ],
             [
              0.3333333333333333,
              "#9c179e"
             ],
             [
              0.4444444444444444,
              "#bd3786"
             ],
             [
              0.5555555555555556,
              "#d8576b"
             ],
             [
              0.6666666666666666,
              "#ed7953"
             ],
             [
              0.7777777777777778,
              "#fb9f3a"
             ],
             [
              0.8888888888888888,
              "#fdca26"
             ],
             [
              1,
              "#f0f921"
             ]
            ],
            "type": "heatmapgl"
           }
          ],
          "histogram": [
           {
            "marker": {
             "pattern": {
              "fillmode": "overlay",
              "size": 10,
              "solidity": 0.2
             }
            },
            "type": "histogram"
           }
          ],
          "histogram2d": [
           {
            "colorbar": {
             "outlinewidth": 0,
             "ticks": ""
            },
            "colorscale": [
             [
              0,
              "#0d0887"
             ],
             [
              0.1111111111111111,
              "#46039f"
             ],
             [
              0.2222222222222222,
              "#7201a8"
             ],
             [
              0.3333333333333333,
              "#9c179e"
             ],
             [
              0.4444444444444444,
              "#bd3786"
             ],
             [
              0.5555555555555556,
              "#d8576b"
             ],
             [
              0.6666666666666666,
              "#ed7953"
             ],
             [
              0.7777777777777778,
              "#fb9f3a"
             ],
             [
              0.8888888888888888,
              "#fdca26"
             ],
             [
              1,
              "#f0f921"
             ]
            ],
            "type": "histogram2d"
           }
          ],
          "histogram2dcontour": [
           {
            "colorbar": {
             "outlinewidth": 0,
             "ticks": ""
            },
            "colorscale": [
             [
              0,
              "#0d0887"
             ],
             [
              0.1111111111111111,
              "#46039f"
             ],
             [
              0.2222222222222222,
              "#7201a8"
             ],
             [
              0.3333333333333333,
              "#9c179e"
             ],
             [
              0.4444444444444444,
              "#bd3786"
             ],
             [
              0.5555555555555556,
              "#d8576b"
             ],
             [
              0.6666666666666666,
              "#ed7953"
             ],
             [
              0.7777777777777778,
              "#fb9f3a"
             ],
             [
              0.8888888888888888,
              "#fdca26"
             ],
             [
              1,
              "#f0f921"
             ]
            ],
            "type": "histogram2dcontour"
           }
          ],
          "mesh3d": [
           {
            "colorbar": {
             "outlinewidth": 0,
             "ticks": ""
            },
            "type": "mesh3d"
           }
          ],
          "parcoords": [
           {
            "line": {
             "colorbar": {
              "outlinewidth": 0,
              "ticks": ""
             }
            },
            "type": "parcoords"
           }
          ],
          "pie": [
           {
            "automargin": true,
            "type": "pie"
           }
          ],
          "scatter": [
           {
            "fillpattern": {
             "fillmode": "overlay",
             "size": 10,
             "solidity": 0.2
            },
            "type": "scatter"
           }
          ],
          "scatter3d": [
           {
            "line": {
             "colorbar": {
              "outlinewidth": 0,
              "ticks": ""
             }
            },
            "marker": {
             "colorbar": {
              "outlinewidth": 0,
              "ticks": ""
             }
            },
            "type": "scatter3d"
           }
          ],
          "scattercarpet": [
           {
            "marker": {
             "colorbar": {
              "outlinewidth": 0,
              "ticks": ""
             }
            },
            "type": "scattercarpet"
           }
          ],
          "scattergeo": [
           {
            "marker": {
             "colorbar": {
              "outlinewidth": 0,
              "ticks": ""
             }
            },
            "type": "scattergeo"
           }
          ],
          "scattergl": [
           {
            "marker": {
             "colorbar": {
              "outlinewidth": 0,
              "ticks": ""
             }
            },
            "type": "scattergl"
           }
          ],
          "scattermapbox": [
           {
            "marker": {
             "colorbar": {
              "outlinewidth": 0,
              "ticks": ""
             }
            },
            "type": "scattermapbox"
           }
          ],
          "scatterpolar": [
           {
            "marker": {
             "colorbar": {
              "outlinewidth": 0,
              "ticks": ""
             }
            },
            "type": "scatterpolar"
           }
          ],
          "scatterpolargl": [
           {
            "marker": {
             "colorbar": {
              "outlinewidth": 0,
              "ticks": ""
             }
            },
            "type": "scatterpolargl"
           }
          ],
          "scatterternary": [
           {
            "marker": {
             "colorbar": {
              "outlinewidth": 0,
              "ticks": ""
             }
            },
            "type": "scatterternary"
           }
          ],
          "surface": [
           {
            "colorbar": {
             "outlinewidth": 0,
             "ticks": ""
            },
            "colorscale": [
             [
              0,
              "#0d0887"
             ],
             [
              0.1111111111111111,
              "#46039f"
             ],
             [
              0.2222222222222222,
              "#7201a8"
             ],
             [
              0.3333333333333333,
              "#9c179e"
             ],
             [
              0.4444444444444444,
              "#bd3786"
             ],
             [
              0.5555555555555556,
              "#d8576b"
             ],
             [
              0.6666666666666666,
              "#ed7953"
             ],
             [
              0.7777777777777778,
              "#fb9f3a"
             ],
             [
              0.8888888888888888,
              "#fdca26"
             ],
             [
              1,
              "#f0f921"
             ]
            ],
            "type": "surface"
           }
          ],
          "table": [
           {
            "cells": {
             "fill": {
              "color": "#EBF0F8"
             },
             "line": {
              "color": "white"
             }
            },
            "header": {
             "fill": {
              "color": "#C8D4E3"
             },
             "line": {
              "color": "white"
             }
            },
            "type": "table"
           }
          ]
         },
         "layout": {
          "annotationdefaults": {
           "arrowcolor": "#2a3f5f",
           "arrowhead": 0,
           "arrowwidth": 1
          },
          "autotypenumbers": "strict",
          "coloraxis": {
           "colorbar": {
            "outlinewidth": 0,
            "ticks": ""
           }
          },
          "colorscale": {
           "diverging": [
            [
             0,
             "#8e0152"
            ],
            [
             0.1,
             "#c51b7d"
            ],
            [
             0.2,
             "#de77ae"
            ],
            [
             0.3,
             "#f1b6da"
            ],
            [
             0.4,
             "#fde0ef"
            ],
            [
             0.5,
             "#f7f7f7"
            ],
            [
             0.6,
             "#e6f5d0"
            ],
            [
             0.7,
             "#b8e186"
            ],
            [
             0.8,
             "#7fbc41"
            ],
            [
             0.9,
             "#4d9221"
            ],
            [
             1,
             "#276419"
            ]
           ],
           "sequential": [
            [
             0,
             "#0d0887"
            ],
            [
             0.1111111111111111,
             "#46039f"
            ],
            [
             0.2222222222222222,
             "#7201a8"
            ],
            [
             0.3333333333333333,
             "#9c179e"
            ],
            [
             0.4444444444444444,
             "#bd3786"
            ],
            [
             0.5555555555555556,
             "#d8576b"
            ],
            [
             0.6666666666666666,
             "#ed7953"
            ],
            [
             0.7777777777777778,
             "#fb9f3a"
            ],
            [
             0.8888888888888888,
             "#fdca26"
            ],
            [
             1,
             "#f0f921"
            ]
           ],
           "sequentialminus": [
            [
             0,
             "#0d0887"
            ],
            [
             0.1111111111111111,
             "#46039f"
            ],
            [
             0.2222222222222222,
             "#7201a8"
            ],
            [
             0.3333333333333333,
             "#9c179e"
            ],
            [
             0.4444444444444444,
             "#bd3786"
            ],
            [
             0.5555555555555556,
             "#d8576b"
            ],
            [
             0.6666666666666666,
             "#ed7953"
            ],
            [
             0.7777777777777778,
             "#fb9f3a"
            ],
            [
             0.8888888888888888,
             "#fdca26"
            ],
            [
             1,
             "#f0f921"
            ]
           ]
          },
          "colorway": [
           "#636efa",
           "#EF553B",
           "#00cc96",
           "#ab63fa",
           "#FFA15A",
           "#19d3f3",
           "#FF6692",
           "#B6E880",
           "#FF97FF",
           "#FECB52"
          ],
          "font": {
           "color": "#2a3f5f"
          },
          "geo": {
           "bgcolor": "white",
           "lakecolor": "white",
           "landcolor": "white",
           "showlakes": true,
           "showland": true,
           "subunitcolor": "#C8D4E3"
          },
          "hoverlabel": {
           "align": "left"
          },
          "hovermode": "closest",
          "mapbox": {
           "style": "light"
          },
          "paper_bgcolor": "white",
          "plot_bgcolor": "white",
          "polar": {
           "angularaxis": {
            "gridcolor": "#EBF0F8",
            "linecolor": "#EBF0F8",
            "ticks": ""
           },
           "bgcolor": "white",
           "radialaxis": {
            "gridcolor": "#EBF0F8",
            "linecolor": "#EBF0F8",
            "ticks": ""
           }
          },
          "scene": {
           "xaxis": {
            "backgroundcolor": "white",
            "gridcolor": "#DFE8F3",
            "gridwidth": 2,
            "linecolor": "#EBF0F8",
            "showbackground": true,
            "ticks": "",
            "zerolinecolor": "#EBF0F8"
           },
           "yaxis": {
            "backgroundcolor": "white",
            "gridcolor": "#DFE8F3",
            "gridwidth": 2,
            "linecolor": "#EBF0F8",
            "showbackground": true,
            "ticks": "",
            "zerolinecolor": "#EBF0F8"
           },
           "zaxis": {
            "backgroundcolor": "white",
            "gridcolor": "#DFE8F3",
            "gridwidth": 2,
            "linecolor": "#EBF0F8",
            "showbackground": true,
            "ticks": "",
            "zerolinecolor": "#EBF0F8"
           }
          },
          "shapedefaults": {
           "line": {
            "color": "#2a3f5f"
           }
          },
          "ternary": {
           "aaxis": {
            "gridcolor": "#DFE8F3",
            "linecolor": "#A2B1C6",
            "ticks": ""
           },
           "baxis": {
            "gridcolor": "#DFE8F3",
            "linecolor": "#A2B1C6",
            "ticks": ""
           },
           "bgcolor": "white",
           "caxis": {
            "gridcolor": "#DFE8F3",
            "linecolor": "#A2B1C6",
            "ticks": ""
           }
          },
          "title": {
           "x": 0.05
          },
          "xaxis": {
           "automargin": true,
           "gridcolor": "#EBF0F8",
           "linecolor": "#EBF0F8",
           "ticks": "",
           "title": {
            "standoff": 15
           },
           "zerolinecolor": "#EBF0F8",
           "zerolinewidth": 2
          },
          "yaxis": {
           "automargin": true,
           "gridcolor": "#EBF0F8",
           "linecolor": "#EBF0F8",
           "ticks": "",
           "title": {
            "standoff": 15
           },
           "zerolinecolor": "#EBF0F8",
           "zerolinewidth": 2
          }
         }
        },
        "xaxis": {
         "anchor": "y",
         "autorange": true,
         "domain": [
          0,
          1
         ],
         "range": [
          -12.15060245173526,
          6.843742958479645
         ],
         "title": {
          "text": "x"
         },
         "type": "linear"
        },
        "yaxis": {
         "anchor": "x",
         "autorange": true,
         "domain": [
          0,
          1
         ],
         "range": [
          -8.227328377445852,
          12.735890942295706
         ],
         "title": {
          "text": "y"
         },
         "type": "linear"
        }
       }
      },
      "image/png": "[encoded data removed]",
      "text/html": [
       "<div>                            <div id=\"68fa7ea8-89d1-4ba2-a354-db239e20f621\" class=\"plotly-graph-div\" style=\"height:525px; width:100%;\"></div>            <script type=\"text/javascript\">                require([\"plotly\"], function(Plotly) {                    window.PLOTLYENV=window.PLOTLYENV || {};                                    if (document.getElementById(\"68fa7ea8-89d1-4ba2-a354-db239e20f621\")) {                    Plotly.newPlot(                        \"68fa7ea8-89d1-4ba2-a354-db239e20f621\",                        [{\"hovertemplate\":\"color=Paris\\u003cbr\\u003ex=%{x}\\u003cbr\\u003ey=%{y}\\u003cextra\\u003e\\u003c\\u002fextra\\u003e\",\"legendgroup\":\"Paris\",\"marker\":{\"color\":\"#636efa\",\"symbol\":\"circle\"},\"mode\":\"markers\",\"name\":\"Paris\",\"orientation\":\"v\",\"showlegend\":true,\"x\":[-0.779754102230072,0.056955184787511826,-0.1104932501912117,1.1375248432159424,-0.732507586479187,-0.7420397996902466,0.8677317500114441,0.06419198215007782,0.49653562903404236,-0.3167882263660431],\"xaxis\":\"x\",\"y\":[-0.98616623878479,0.1143478974699974,0.9114890098571777,-0.4864703416824341,1.1976125240325928,0.3804958760738373,1.2672711610794067,1.3420519828796387,0.5591169595718384,0.49992966651916504],\"yaxis\":\"y\",\"type\":\"scatter\",\"textposition\":\"top center\"},{\"hovertemplate\":\"color=Python\\u003cbr\\u003ex=%{x}\\u003cbr\\u003ey=%{y}\\u003cextra\\u003e\\u003c\\u002fextra\\u003e\",\"legendgroup\":\"Python\",\"marker\":{\"color\":\"#EF553B\",\"symbol\":\"circle\"},\"mode\":\"markers\",\"name\":\"Python\",\"orientation\":\"v\",\"showlegend\":true,\"x\":[-5.180268287658691,-4.578372955322266,-6.0506696701049805,-4.74181604385376,-4.029825210571289,-4.103354454040527,-5.296695709228516,-4.263185501098633,-6.305078029632568,-5.339724540710449],\"xaxis\":\"x\",\"y\":[-1.1590428352355957,-1.652467966079712,-1.482826590538025,-3.0310163497924805,-1.5302813053131104,-0.747410774230957,-2.4771676063537598,-1.0343432426452637,-2.955019474029541,-0.2327825129032135],\"yaxis\":\"y\",\"type\":\"scatter\",\"textposition\":\"top center\"},{\"hovertemplate\":\"color=Sunday\\u003cbr\\u003ex=%{x}\\u003cbr\\u003ey=%{y}\\u003cextra\\u003e\\u003c\\u002fextra\\u003e\",\"legendgroup\":\"Sunday\",\"marker\":{\"color\":\"#00cc96\",\"symbol\":\"circle\"},\"mode\":\"markers\",\"name\":\"Sunday\",\"orientation\":\"v\",\"showlegend\":true,\"x\":[3.5606439113616943,4.339608192443848,4.160371780395508,4.679421901702881,4.863581657409668,4.441736698150635,3.349820852279663,3.802670955657959,5.410578727722168,5.626404285430908],\"xaxis\":\"x\",\"y\":[1.6390382051467896,1.8670463562011719,1.1083406209945679,1.5403242111206055,1.2930163145065308,0.867760181427002,2.8670899868011475,2.947718858718872,2.3634345531463623,0.4276009202003479],\"yaxis\":\"y\",\"type\":\"scatter\",\"textposition\":\"top center\"},{\"hovertemplate\":\"color=Tolstoy\\u003cbr\\u003ex=%{x}\\u003cbr\\u003ey=%{y}\\u003cextra\\u003e\\u003c\\u002fextra\\u003e\",\"legendgroup\":\"Tolstoy\",\"marker\":{\"color\":\"#ab63fa\",\"symbol\":\"circle\"},\"mode\":\"markers\",\"name\":\"Tolstoy\",\"orientation\":\"v\",\"showlegend\":true,\"x\":[-3.184540271759033,-2.1706008911132812,-2.582606315612793,-1.64967679977417,-0.9059668779373169,-1.2303134202957153,-0.28821322321891785,-2.6586790084838867,-1.862805962562561,-1.2843760251998901],\"xaxis\":\"x\",\"y\":[3.5386524200439453,3.198141574859619,6.0167412757873535,3.2575526237487793,2.943760633468628,5.739903450012207,4.141168117523193,6.0609869956970215,4.5827956199646,4.622249603271484],\"yaxis\":\"y\",\"type\":\"scatter\",\"textposition\":\"top center\"},{\"hovertemplate\":\"color=Twitter\\u003cbr\\u003ex=%{x}\\u003cbr\\u003ey=%{y}\\u003cextra\\u003e\\u003c\\u002fextra\\u003e\",\"legendgroup\":\"Twitter\",\"marker\":{\"color\":\"#FFA15A\",\"symbol\":\"circle\"},\"mode\":\"markers\",\"name\":\"Twitter\",\"orientation\":\"v\",\"showlegend\":true,\"x\":[5.387767314910889,5.805980205535889,4.1366682052612305,4.567704677581787,3.9671268463134766,4.412398338317871,5.427578449249268,3.7393853664398193,4.027704238891602,5.631469249725342],\"xaxis\":\"x\",\"y\":[9.835887908935547,9.170615196228027,8.882182121276855,10.612455368041992,11.038237571716309,10.350208282470703,11.155242919921875,10.909194946289062,9.186101913452148,11.330402374267578],\"yaxis\":\"y\",\"type\":\"scatter\",\"textposition\":\"top center\"},{\"hovertemplate\":\"color=food\\u003cbr\\u003ex=%{x}\\u003cbr\\u003ey=%{y}\\u003cextra\\u003e\\u003c\\u002fextra\\u003e\",\"legendgroup\":\"food\",\"marker\":{\"color\":\"#19d3f3\",\"symbol\":\"circle\"},\"mode\":\"markers\",\"name\":\"food\",\"orientation\":\"v\",\"showlegend\":true,\"x\":[2.281439781188965,0.7731828093528748,0.7139724493026733,3.474287271499634,0.5912778973579407,2.8612213134765625,0.49367067217826843,0.9658429026603699,2.764754056930542,3.6331849098205566],\"xaxis\":\"x\",\"y\":[-4.718934059143066,-2.521388292312622,-5.75601053237915,-3.16617751121521,-6.0217156410217285,-3.418165683746338,-5.667943954467773,-6.821839809417725,-4.366796016693115,-3.068984031677246],\"yaxis\":\"y\",\"type\":\"scatter\",\"textposition\":\"top center\"},{\"hovertemplate\":\"color=iOS\\u003cbr\\u003ex=%{x}\\u003cbr\\u003ey=%{y}\\u003cextra\\u003e\\u003c\\u002fextra\\u003e\",\"legendgroup\":\"iOS\",\"marker\":{\"color\":\"#FF6692\",\"symbol\":\"circle\"},\"mode\":\"markers\",\"name\":\"iOS\",\"orientation\":\"v\",\"showlegend\":true,\"x\":[-10.287941932678223,-10.032815933227539,-9.743504524230957,-9.19796371459961,-8.874974250793457,-8.449601173400879,-11.03790283203125,-11.112839698791504,-8.946189880371094,-11.094746589660645],\"xaxis\":\"x\",\"y\":[1.260501503944397,0.2352321892976761,1.9719312191009521,0.5510613918304443,0.16052645444869995,1.0200384855270386,0.452585369348526,0.6140643954277039,2.4088382720947266,1.805776596069336],\"yaxis\":\"y\",\"type\":\"scatter\",\"textposition\":\"top center\"}],                        {\"template\":{\"data\":{\"barpolar\":[{\"marker\":{\"line\":{\"color\":\"white\",\"width\":0.5},\"pattern\":{\"fillmode\":\"overlay\",\"size\":10,\"solidity\":0.2}},\"type\":\"barpolar\"}],\"bar\":[{\"error_x\":{\"color\":\"#2a3f5f\"},\"error_y\":{\"color\":\"#2a3f5f\"},\"marker\":{\"line\":{\"color\":\"white\",\"width\":0.5},\"pattern\":{\"fillmode\":\"overlay\",\"size\":10,\"solidity\":0.2}},\"type\":\"bar\"}],\"carpet\":[{\"aaxis\":{\"endlinecolor\":\"#2a3f5f\",\"gridcolor\":\"#C8D4E3\",\"linecolor\":\"#C8D4E3\",\"minorgridcolor\":\"#C8D4E3\",\"startlinecolor\":\"#2a3f5f\"},\"baxis\":{\"endlinecolor\":\"#2a3f5f\",\"gridcolor\":\"#C8D4E3\",\"linecolor\":\"#C8D4E3\",\"minorgridcolor\":\"#C8D4E3\",\"startlinecolor\":\"#2a3f5f\"},\"type\":\"carpet\"}],\"choropleth\":[{\"colorbar\":{\"outlinewidth\":0,\"ticks\":\"\"},\"type\":\"choropleth\"}],\"contourcarpet\":[{\"colorbar\":{\"outlinewidth\":0,\"ticks\":\"\"},\"type\":\"contourcarpet\"}],\"contour\":[{\"colorbar\":{\"outlinewidth\":0,\"ticks\":\"\"},\"colorscale\":[[0.0,\"#0d0887\"],[0.1111111111111111,\"#46039f\"],[0.2222222222222222,\"#7201a8\"],[0.3333333333333333,\"#9c179e\"],[0.4444444444444444,\"#bd3786\"],[0.5555555555555556,\"#d8576b\"],[0.6666666666666666,\"#ed7953\"],[0.7777777777777778,\"#fb9f3a\"],[0.8888888888888888,\"#fdca26\"],[1.0,\"#f0f921\"]],\"type\":\"contour\"}],\"heatmapgl\":[{\"colorbar\":{\"outlinewidth\":0,\"ticks\":\"\"},\"colorscale\":[[0.0,\"#0d0887\"],[0.1111111111111111,\"#46039f\"],[0.2222222222222222,\"#7201a8\"],[0.3333333333333333,\"#9c179e\"],[0.4444444444444444,\"#bd3786\"],[0.5555555555555556,\"#d8576b\"],[0.6666666666666666,\"#ed7953\"],[0.7777777777777778,\"#fb9f3a\"],[0.8888888888888888,\"#fdca26\"],[1.0,\"#f0f921\"]],\"type\":\"heatmapgl\"}],\"heatmap\":[{\"colorbar\":{\"outlinewidth\":0,\"ticks\":\"\"},\"colorscale\":[[0.0,\"#0d0887\"],[0.1111111111111111,\"#46039f\"],[0.2222222222222222,\"#7201a8\"],[0.3333333333333333,\"#9c179e\"],[0.4444444444444444,\"#bd3786\"],[0.5555555555555556,\"#d8576b\"],[0.6666666666666666,\"#ed7953\"],[0.7777777777777778,\"#fb9f3a\"],[0.8888888888888888,\"#fdca26\"],[1.0,\"#f0f921\"]],\"type\":\"heatmap\"}],\"histogram2dcontour\":[{\"colorbar\":{\"outlinewidth\":0,\"ticks\":\"\"},\"colorscale\":[[0.0,\"#0d0887\"],[0.1111111111111111,\"#46039f\"],[0.2222222222222222,\"#7201a8\"],[0.3333333333333333,\"#9c179e\"],[0.4444444444444444,\"#bd3786\"],[0.5555555555555556,\"#d8576b\"],[0.6666666666666666,\"#ed7953\"],[0.7777777777777778,\"#fb9f3a\"],[0.8888888888888888,\"#fdca26\"],[1.0,\"#f0f921\"]],\"type\":\"histogram2dcontour\"}],\"histogram2d\":[{\"colorbar\":{\"outlinewidth\":0,\"ticks\":\"\"},\"colorscale\":[[0.0,\"#0d0887\"],[0.1111111111111111,\"#46039f\"],[0.2222222222222222,\"#7201a8\"],[0.3333333333333333,\"#9c179e\"],[0.4444444444444444,\"#bd3786\"],[0.5555555555555556,\"#d8576b\"],[0.6666666666666666,\"#ed7953\"],[0.7777777777777778,\"#fb9f3a\"],[0.8888888888888888,\"#fdca26\"],[1.0,\"#f0f921\"]],\"type\":\"histogram2d\"}],\"histogram\":[{\"marker\":{\"pattern\":{\"fillmode\":\"overlay\",\"size\":10,\"solidity\":0.2}},\"type\":\"histogram\"}],\"mesh3d\":[{\"colorbar\":{\"outlinewidth\":0,\"ticks\":\"\"},\"type\":\"mesh3d\"}],\"parcoords\":[{\"line\":{\"colorbar\":{\"outlinewidth\":0,\"ticks\":\"\"}},\"type\":\"parcoords\"}],\"pie\":[{\"automargin\":true,\"type\":\"pie\"}],\"scatter3d\":[{\"line\":{\"colorbar\":{\"outlinewidth\":0,\"ticks\":\"\"}},\"marker\":{\"colorbar\":{\"outlinewidth\":0,\"ticks\":\"\"}},\"type\":\"scatter3d\"}],\"scattercarpet\":[{\"marker\":{\"colorbar\":{\"outlinewidth\":0,\"ticks\":\"\"}},\"type\":\"scattercarpet\"}],\"scattergeo\":[{\"marker\":{\"colorbar\":{\"outlinewidth\":0,\"ticks\":\"\"}},\"type\":\"scattergeo\"}],\"scattergl\":[{\"marker\":{\"colorbar\":{\"outlinewidth\":0,\"ticks\":\"\"}},\"type\":\"scattergl\"}],\"scattermapbox\":[{\"marker\":{\"colorbar\":{\"outlinewidth\":0,\"ticks\":\"\"}},\"type\":\"scattermapbox\"}],\"scatterpolargl\":[{\"marker\":{\"colorbar\":{\"outlinewidth\":0,\"ticks\":\"\"}},\"type\":\"scatterpolargl\"}],\"scatterpolar\":[{\"marker\":{\"colorbar\":{\"outlinewidth\":0,\"ticks\":\"\"}},\"type\":\"scatterpolar\"}],\"scatter\":[{\"fillpattern\":{\"fillmode\":\"overlay\",\"size\":10,\"solidity\":0.2},\"type\":\"scatter\"}],\"scatterternary\":[{\"marker\":{\"colorbar\":{\"outlinewidth\":0,\"ticks\":\"\"}},\"type\":\"scatterternary\"}],\"surface\":[{\"colorbar\":{\"outlinewidth\":0,\"ticks\":\"\"},\"colorscale\":[[0.0,\"#0d0887\"],[0.1111111111111111,\"#46039f\"],[0.2222222222222222,\"#7201a8\"],[0.3333333333333333,\"#9c179e\"],[0.4444444444444444,\"#bd3786\"],[0.5555555555555556,\"#d8576b\"],[0.6666666666666666,\"#ed7953\"],[0.7777777777777778,\"#fb9f3a\"],[0.8888888888888888,\"#fdca26\"],[1.0,\"#f0f921\"]],\"type\":\"surface\"}],\"table\":[{\"cells\":{\"fill\":{\"color\":\"#EBF0F8\"},\"line\":{\"color\":\"white\"}},\"header\":{\"fill\":{\"color\":\"#C8D4E3\"},\"line\":{\"color\":\"white\"}},\"type\":\"table\"}]},\"layout\":{\"annotationdefaults\":{\"arrowcolor\":\"#2a3f5f\",\"arrowhead\":0,\"arrowwidth\":1},\"autotypenumbers\":\"strict\",\"coloraxis\":{\"colorbar\":{\"outlinewidth\":0,\"ticks\":\"\"}},\"colorscale\":{\"diverging\":[[0,\"#8e0152\"],[0.1,\"#c51b7d\"],[0.2,\"#de77ae\"],[0.3,\"#f1b6da\"],[0.4,\"#fde0ef\"],[0.5,\"#f7f7f7\"],[0.6,\"#e6f5d0\"],[0.7,\"#b8e186\"],[0.8,\"#7fbc41\"],[0.9,\"#4d9221\"],[1,\"#276419\"]],\"sequential\":[[0.0,\"#0d0887\"],[0.1111111111111111,\"#46039f\"],[0.2222222222222222,\"#7201a8\"],[0.3333333333333333,\"#9c179e\"],[0.4444444444444444,\"#bd3786\"],[0.5555555555555556,\"#d8576b\"],[0.6666666666666666,\"#ed7953\"],[0.7777777777777778,\"#fb9f3a\"],[0.8888888888888888,\"#fdca26\"],[1.0,\"#f0f921\"]],\"sequentialminus\":[[0.0,\"#0d0887\"],[0.1111111111111111,\"#46039f\"],[0.2222222222222222,\"#7201a8\"],[0.3333333333333333,\"#9c179e\"],[0.4444444444444444,\"#bd3786\"],[0.5555555555555556,\"#d8576b\"],[0.6666666666666666,\"#ed7953\"],[0.7777777777777778,\"#fb9f3a\"],[0.8888888888888888,\"#fdca26\"],[1.0,\"#f0f921\"]]},\"colorway\":[\"#636efa\",\"#EF553B\",\"#00cc96\",\"#ab63fa\",\"#FFA15A\",\"#19d3f3\",\"#FF6692\",\"#B6E880\",\"#FF97FF\",\"#FECB52\"],\"font\":{\"color\":\"#2a3f5f\"},\"geo\":{\"bgcolor\":\"white\",\"lakecolor\":\"white\",\"landcolor\":\"white\",\"showlakes\":true,\"showland\":true,\"subunitcolor\":\"#C8D4E3\"},\"hoverlabel\":{\"align\":\"left\"},\"hovermode\":\"closest\",\"mapbox\":{\"style\":\"light\"},\"paper_bgcolor\":\"white\",\"plot_bgcolor\":\"white\",\"polar\":{\"angularaxis\":{\"gridcolor\":\"#EBF0F8\",\"linecolor\":\"#EBF0F8\",\"ticks\":\"\"},\"bgcolor\":\"white\",\"radialaxis\":{\"gridcolor\":\"#EBF0F8\",\"linecolor\":\"#EBF0F8\",\"ticks\":\"\"}},\"scene\":{\"xaxis\":{\"backgroundcolor\":\"white\",\"gridcolor\":\"#DFE8F3\",\"gridwidth\":2,\"linecolor\":\"#EBF0F8\",\"showbackground\":true,\"ticks\":\"\",\"zerolinecolor\":\"#EBF0F8\"},\"yaxis\":{\"backgroundcolor\":\"white\",\"gridcolor\":\"#DFE8F3\",\"gridwidth\":2,\"linecolor\":\"#EBF0F8\",\"showbackground\":true,\"ticks\":\"\",\"zerolinecolor\":\"#EBF0F8\"},\"zaxis\":{\"backgroundcolor\":\"white\",\"gridcolor\":\"#DFE8F3\",\"gridwidth\":2,\"linecolor\":\"#EBF0F8\",\"showbackground\":true,\"ticks\":\"\",\"zerolinecolor\":\"#EBF0F8\"}},\"shapedefaults\":{\"line\":{\"color\":\"#2a3f5f\"}},\"ternary\":{\"aaxis\":{\"gridcolor\":\"#DFE8F3\",\"linecolor\":\"#A2B1C6\",\"ticks\":\"\"},\"baxis\":{\"gridcolor\":\"#DFE8F3\",\"linecolor\":\"#A2B1C6\",\"ticks\":\"\"},\"bgcolor\":\"white\",\"caxis\":{\"gridcolor\":\"#DFE8F3\",\"linecolor\":\"#A2B1C6\",\"ticks\":\"\"}},\"title\":{\"x\":0.05},\"xaxis\":{\"automargin\":true,\"gridcolor\":\"#EBF0F8\",\"linecolor\":\"#EBF0F8\",\"ticks\":\"\",\"title\":{\"standoff\":15},\"zerolinecolor\":\"#EBF0F8\",\"zerolinewidth\":2},\"yaxis\":{\"automargin\":true,\"gridcolor\":\"#EBF0F8\",\"linecolor\":\"#EBF0F8\",\"ticks\":\"\",\"title\":{\"standoff\":15},\"zerolinecolor\":\"#EBF0F8\",\"zerolinewidth\":2}}},\"xaxis\":{\"anchor\":\"y\",\"domain\":[0.0,1.0],\"title\":{\"text\":\"x\"}},\"yaxis\":{\"anchor\":\"x\",\"domain\":[0.0,1.0],\"title\":{\"text\":\"y\"}},\"legend\":{\"title\":{\"text\":\"color\"},\"tracegroupgap\":0},\"margin\":{\"t\":60}},                        {\"responsive\": true}                    ).then(function(){\n",
       "                            \n",
       "var gd = document.getElementById('68fa7ea8-89d1-4ba2-a354-db239e20f621');\n",
       "var x = new MutationObserver(function (mutations, observer) {{\n",
       "        var display = window.getComputedStyle(gd).display;\n",
       "        if (!display || display === 'none') {{\n",
       "            console.log([gd, 'removed!']);\n",
       "            Plotly.purge(gd);\n",
       "            observer.disconnect();\n",
       "        }}\n",
       "}});\n",
       "\n",
       "// Listen for the removal of the full notebook cells\n",
       "var notebookContainer = gd.closest('#notebook-container');\n",
       "if (notebookContainer) {{\n",
       "    x.observe(notebookContainer, {childList: true});\n",
       "}}\n",
       "\n",
       "// Listen for the clearing of the current output cell\n",
       "var outputEl = gd.closest('.output');\n",
       "if (outputEl) {{\n",
       "    x.observe(outputEl, {childList: true});\n",
       "}}\n",
       "\n",
       "                        })                };                });            </script>        </div>"
      ]
     },
     "metadata": {},
     "output_type": "display_data"
    }
   ],
   "source": [
    "fig = px.scatter(\n",
    "    x=embeddings[:, 0],\n",
    "    y=embeddings[:, 1],\n",
    "    color=clusters,\n",
    "    template=\"plotly_white\",\n",
    ")\n",
    "fig.update_traces(textposition=\"top center\")\n",
    "fig.show()"
   ]
  },
  {
   "cell_type": "code",
   "execution_count": 61,
   "metadata": {},
   "outputs": [
    {
     "data": {
      "application/vnd.plotly.v1+json": {
       "config": {
        "plotlyServerURL": "https://plot.ly"
       },
       "data": [
        {
         "hovertemplate": "color=Paris<br>x=%{x}<br>y=%{y}<br>text=%{text}<extra></extra>",
         "legendgroup": "Paris",
         "marker": {
          "color": "#636efa",
          "symbol": "circle"
         },
         "mode": "markers+text",
         "name": "Paris",
         "orientation": "v",
         "showlegend": true,
         "text": [
          "Parisian",
          "Hopital_Europeen_Georges_Pompidou",
          "Spyker_D##_Peking",
          "France",
          "Pantheon_Sorbonne",
          "Aeroports_De",
          "Grigny_south",
          "Place_Denfert_Rochereau",
          "guest_Olivier_Dolige",
          "Lazard_Freres_Banque"
         ],
         "textposition": "top center",
         "type": "scatter",
         "visible": true,
         "x": [
          -0.779754102230072,
          0.056955184787511826,
          -0.1104932501912117,
          1.1375248432159424,
          -0.732507586479187,
          -0.7420397996902466,
          0.8677317500114441,
          0.06419198215007782,
          0.49653562903404236,
          -0.3167882263660431
         ],
         "xaxis": "x",
         "y": [
          -0.98616623878479,
          0.1143478974699974,
          0.9114890098571777,
          -0.4864703416824341,
          1.1976125240325928,
          0.3804958760738373,
          1.2672711610794067,
          1.3420519828796387,
          0.5591169595718384,
          0.49992966651916504
         ],
         "yaxis": "y"
        },
        {
         "hovertemplate": "color=Python<br>x=%{x}<br>y=%{y}<br>text=%{text}<extra></extra>",
         "legendgroup": "Python",
         "marker": {
          "color": "#EF553B",
          "symbol": "circle"
         },
         "mode": "markers+text",
         "name": "Python",
         "orientation": "v",
         "showlegend": true,
         "text": [
          "Jython",
          "Perl_Python",
          "IronPython",
          "scripting_languages",
          "PHP_Perl",
          "Java_Python",
          "PHP",
          "Python_Ruby",
          "Visual_Basic",
          "Perl"
         ],
         "textposition": "top center",
         "type": "scatter",
         "x": [
          -5.180268287658691,
          -4.578372955322266,
          -6.0506696701049805,
          -4.74181604385376,
          -4.029825210571289,
          -4.103354454040527,
          -5.296695709228516,
          -4.263185501098633,
          -6.305078029632568,
          -5.339724540710449
         ],
         "xaxis": "x",
         "y": [
          -1.1590428352355957,
          -1.652467966079712,
          -1.482826590538025,
          -3.0310163497924805,
          -1.5302813053131104,
          -0.747410774230957,
          -2.4771676063537598,
          -1.0343432426452637,
          -2.955019474029541,
          -0.2327825129032135
         ],
         "yaxis": "y"
        },
        {
         "hovertemplate": "color=Sunday<br>x=%{x}<br>y=%{y}<br>text=%{text}<extra></extra>",
         "legendgroup": "Sunday",
         "marker": {
          "color": "#00cc96",
          "symbol": "circle"
         },
         "mode": "markers+text",
         "name": "Sunday",
         "orientation": "v",
         "showlegend": true,
         "text": [
          "Saturday",
          "Friday",
          "Monday",
          "Thursday",
          "Wednesday",
          "Tuesday",
          "evening",
          "afternoon",
          "Thurday",
          "Feb."
         ],
         "textposition": "top center",
         "type": "scatter",
         "x": [
          3.5606439113616943,
          4.339608192443848,
          4.160371780395508,
          4.679421901702881,
          4.863581657409668,
          4.441736698150635,
          3.349820852279663,
          3.802670955657959,
          5.410578727722168,
          5.626404285430908
         ],
         "xaxis": "x",
         "y": [
          1.6390382051467896,
          1.8670463562011719,
          1.1083406209945679,
          1.5403242111206055,
          1.2930163145065308,
          0.867760181427002,
          2.8670899868011475,
          2.947718858718872,
          2.3634345531463623,
          0.4276009202003479
         ],
         "yaxis": "y"
        },
        {
         "hovertemplate": "color=Tolstoy<br>x=%{x}<br>y=%{y}<br>text=%{text}<extra></extra>",
         "legendgroup": "Tolstoy",
         "marker": {
          "color": "#ab63fa",
          "symbol": "circle"
         },
         "mode": "markers+text",
         "name": "Tolstoy",
         "orientation": "v",
         "showlegend": true,
         "text": [
          "Leo_Tolstoy",
          "writer_Leo_Tolstoy",
          "Dostoevsky",
          "novelist_Leo_Tolstoy",
          "Tolstoys",
          "Chekhov",
          "Anna_Karenina",
          "Dostoyevsky",
          "Maxim_Gorky",
          "Turgenev"
         ],
         "textposition": "top center",
         "type": "scatter",
         "x": [
          -3.184540271759033,
          -2.1706008911132812,
          -2.582606315612793,
          -1.64967679977417,
          -0.9059668779373169,
          -1.2303134202957153,
          -0.28821322321891785,
          -2.6586790084838867,
          -1.862805962562561,
          -1.2843760251998901
         ],
         "xaxis": "x",
         "y": [
          3.5386524200439453,
          3.198141574859619,
          6.0167412757873535,
          3.2575526237487793,
          2.943760633468628,
          5.739903450012207,
          4.141168117523193,
          6.0609869956970215,
          4.5827956199646,
          4.622249603271484
         ],
         "yaxis": "y"
        },
        {
         "hovertemplate": "color=Twitter<br>x=%{x}<br>y=%{y}<br>text=%{text}<extra></extra>",
         "legendgroup": "Twitter",
         "marker": {
          "color": "#FFA15A",
          "symbol": "circle"
         },
         "mode": "markers+text",
         "name": "Twitter",
         "orientation": "v",
         "showlegend": true,
         "text": [
          "twitter",
          "Twitter.com",
          "Facebook",
          "tweet",
          "tweets",
          "Tweet",
          "tweeting",
          "Tweets",
          "TwitterTwitter",
          "Tweeting"
         ],
         "textposition": "top center",
         "type": "scatter",
         "x": [
          5.387767314910889,
          5.805980205535889,
          4.1366682052612305,
          4.567704677581787,
          3.9671268463134766,
          4.412398338317871,
          5.427578449249268,
          3.7393853664398193,
          4.027704238891602,
          5.631469249725342
         ],
         "xaxis": "x",
         "y": [
          9.835887908935547,
          9.170615196228027,
          8.882182121276855,
          10.612455368041992,
          11.038237571716309,
          10.350208282470703,
          11.155242919921875,
          10.909194946289062,
          9.186101913452148,
          11.330402374267578
         ],
         "yaxis": "y"
        },
        {
         "hovertemplate": "color=food<br>x=%{x}<br>y=%{y}<br>text=%{text}<extra></extra>",
         "legendgroup": "food",
         "marker": {
          "color": "#19d3f3",
          "symbol": "circle"
         },
         "mode": "markers+text",
         "name": "food",
         "orientation": "v",
         "showlegend": true,
         "text": [
          "foods",
          "Food",
          "foodstuffs",
          "meals",
          "food_stuffs",
          "nourishing_meals",
          "foodstuff",
          "staple_foods",
          "nutritious",
          "meal"
         ],
         "textposition": "top center",
         "type": "scatter",
         "x": [
          2.281439781188965,
          0.7731828093528748,
          0.7139724493026733,
          3.474287271499634,
          0.5912778973579407,
          2.8612213134765625,
          0.49367067217826843,
          0.9658429026603699,
          2.764754056930542,
          3.6331849098205566
         ],
         "xaxis": "x",
         "y": [
          -4.718934059143066,
          -2.521388292312622,
          -5.75601053237915,
          -3.16617751121521,
          -6.0217156410217285,
          -3.418165683746338,
          -5.667943954467773,
          -6.821839809417725,
          -4.366796016693115,
          -3.068984031677246
         ],
         "yaxis": "y"
        },
        {
         "hovertemplate": "color=iOS<br>x=%{x}<br>y=%{y}<br>text=%{text}<extra></extra>",
         "legendgroup": "iOS",
         "marker": {
          "color": "#FF6692",
          "symbol": "circle"
         },
         "mode": "markers+text",
         "name": "iOS",
         "orientation": "v",
         "showlegend": true,
         "text": [
          "iPhone_OS",
          "Apple_iOS",
          "iOS4",
          "iPhone",
          "iOS_devices",
          "iOS#.#",
          "Android",
          "Android_OS",
          "iOS_#.#.#",
          "BlackBerry_OS"
         ],
         "textposition": "top center",
         "type": "scatter",
         "x": [
          -10.287941932678223,
          -10.032815933227539,
          -9.743504524230957,
          -9.19796371459961,
          -8.874974250793457,
          -8.449601173400879,
          -11.03790283203125,
          -11.112839698791504,
          -8.946189880371094,
          -11.094746589660645
         ],
         "xaxis": "x",
         "y": [
          1.260501503944397,
          0.2352321892976761,
          1.9719312191009521,
          0.5510613918304443,
          0.16052645444869995,
          1.0200384855270386,
          0.452585369348526,
          0.6140643954277039,
          2.4088382720947266,
          1.805776596069336
         ],
         "yaxis": "y"
        }
       ],
       "layout": {
        "autosize": true,
        "legend": {
         "title": {
          "text": "color"
         },
         "tracegroupgap": 0
        },
        "margin": {
         "t": 60
        },
        "template": {
         "data": {
          "bar": [
           {
            "error_x": {
             "color": "#2a3f5f"
            },
            "error_y": {
             "color": "#2a3f5f"
            },
            "marker": {
             "line": {
              "color": "white",
              "width": 0.5
             },
             "pattern": {
              "fillmode": "overlay",
              "size": 10,
              "solidity": 0.2
             }
            },
            "type": "bar"
           }
          ],
          "barpolar": [
           {
            "marker": {
             "line": {
              "color": "white",
              "width": 0.5
             },
             "pattern": {
              "fillmode": "overlay",
              "size": 10,
              "solidity": 0.2
             }
            },
            "type": "barpolar"
           }
          ],
          "carpet": [
           {
            "aaxis": {
             "endlinecolor": "#2a3f5f",
             "gridcolor": "#C8D4E3",
             "linecolor": "#C8D4E3",
             "minorgridcolor": "#C8D4E3",
             "startlinecolor": "#2a3f5f"
            },
            "baxis": {
             "endlinecolor": "#2a3f5f",
             "gridcolor": "#C8D4E3",
             "linecolor": "#C8D4E3",
             "minorgridcolor": "#C8D4E3",
             "startlinecolor": "#2a3f5f"
            },
            "type": "carpet"
           }
          ],
          "choropleth": [
           {
            "colorbar": {
             "outlinewidth": 0,
             "ticks": ""
            },
            "type": "choropleth"
           }
          ],
          "contour": [
           {
            "colorbar": {
             "outlinewidth": 0,
             "ticks": ""
            },
            "colorscale": [
             [
              0,
              "#0d0887"
             ],
             [
              0.1111111111111111,
              "#46039f"
             ],
             [
              0.2222222222222222,
              "#7201a8"
             ],
             [
              0.3333333333333333,
              "#9c179e"
             ],
             [
              0.4444444444444444,
              "#bd3786"
             ],
             [
              0.5555555555555556,
              "#d8576b"
             ],
             [
              0.6666666666666666,
              "#ed7953"
             ],
             [
              0.7777777777777778,
              "#fb9f3a"
             ],
             [
              0.8888888888888888,
              "#fdca26"
             ],
             [
              1,
              "#f0f921"
             ]
            ],
            "type": "contour"
           }
          ],
          "contourcarpet": [
           {
            "colorbar": {
             "outlinewidth": 0,
             "ticks": ""
            },
            "type": "contourcarpet"
           }
          ],
          "heatmap": [
           {
            "colorbar": {
             "outlinewidth": 0,
             "ticks": ""
            },
            "colorscale": [
             [
              0,
              "#0d0887"
             ],
             [
              0.1111111111111111,
              "#46039f"
             ],
             [
              0.2222222222222222,
              "#7201a8"
             ],
             [
              0.3333333333333333,
              "#9c179e"
             ],
             [
              0.4444444444444444,
              "#bd3786"
             ],
             [
              0.5555555555555556,
              "#d8576b"
             ],
             [
              0.6666666666666666,
              "#ed7953"
             ],
             [
              0.7777777777777778,
              "#fb9f3a"
             ],
             [
              0.8888888888888888,
              "#fdca26"
             ],
             [
              1,
              "#f0f921"
             ]
            ],
            "type": "heatmap"
           }
          ],
          "heatmapgl": [
           {
            "colorbar": {
             "outlinewidth": 0,
             "ticks": ""
            },
            "colorscale": [
             [
              0,
              "#0d0887"
             ],
             [
              0.1111111111111111,
              "#46039f"
             ],
             [
              0.2222222222222222,
              "#7201a8"
             ],
             [
              0.3333333333333333,
              "#9c179e"
             ],
             [
              0.4444444444444444,
              "#bd3786"
             ],
             [
              0.5555555555555556,
              "#d8576b"
             ],
             [
              0.6666666666666666,
              "#ed7953"
             ],
             [
              0.7777777777777778,
              "#fb9f3a"
             ],
             [
              0.8888888888888888,
              "#fdca26"
             ],
             [
              1,
              "#f0f921"
             ]
            ],
            "type": "heatmapgl"
           }
          ],
          "histogram": [
           {
            "marker": {
             "pattern": {
              "fillmode": "overlay",
              "size": 10,
              "solidity": 0.2
             }
            },
            "type": "histogram"
           }
          ],
          "histogram2d": [
           {
            "colorbar": {
             "outlinewidth": 0,
             "ticks": ""
            },
            "colorscale": [
             [
              0,
              "#0d0887"
             ],
             [
              0.1111111111111111,
              "#46039f"
             ],
             [
              0.2222222222222222,
              "#7201a8"
             ],
             [
              0.3333333333333333,
              "#9c179e"
             ],
             [
              0.4444444444444444,
              "#bd3786"
             ],
             [
              0.5555555555555556,
              "#d8576b"
             ],
             [
              0.6666666666666666,
              "#ed7953"
             ],
             [
              0.7777777777777778,
              "#fb9f3a"
             ],
             [
              0.8888888888888888,
              "#fdca26"
             ],
             [
              1,
              "#f0f921"
             ]
            ],
            "type": "histogram2d"
           }
          ],
          "histogram2dcontour": [
           {
            "colorbar": {
             "outlinewidth": 0,
             "ticks": ""
            },
            "colorscale": [
             [
              0,
              "#0d0887"
             ],
             [
              0.1111111111111111,
              "#46039f"
             ],
             [
              0.2222222222222222,
              "#7201a8"
             ],
             [
              0.3333333333333333,
              "#9c179e"
             ],
             [
              0.4444444444444444,
              "#bd3786"
             ],
             [
              0.5555555555555556,
              "#d8576b"
             ],
             [
              0.6666666666666666,
              "#ed7953"
             ],
             [
              0.7777777777777778,
              "#fb9f3a"
             ],
             [
              0.8888888888888888,
              "#fdca26"
             ],
             [
              1,
              "#f0f921"
             ]
            ],
            "type": "histogram2dcontour"
           }
          ],
          "mesh3d": [
           {
            "colorbar": {
             "outlinewidth": 0,
             "ticks": ""
            },
            "type": "mesh3d"
           }
          ],
          "parcoords": [
           {
            "line": {
             "colorbar": {
              "outlinewidth": 0,
              "ticks": ""
             }
            },
            "type": "parcoords"
           }
          ],
          "pie": [
           {
            "automargin": true,
            "type": "pie"
           }
          ],
          "scatter": [
           {
            "fillpattern": {
             "fillmode": "overlay",
             "size": 10,
             "solidity": 0.2
            },
            "type": "scatter"
           }
          ],
          "scatter3d": [
           {
            "line": {
             "colorbar": {
              "outlinewidth": 0,
              "ticks": ""
             }
            },
            "marker": {
             "colorbar": {
              "outlinewidth": 0,
              "ticks": ""
             }
            },
            "type": "scatter3d"
           }
          ],
          "scattercarpet": [
           {
            "marker": {
             "colorbar": {
              "outlinewidth": 0,
              "ticks": ""
             }
            },
            "type": "scattercarpet"
           }
          ],
          "scattergeo": [
           {
            "marker": {
             "colorbar": {
              "outlinewidth": 0,
              "ticks": ""
             }
            },
            "type": "scattergeo"
           }
          ],
          "scattergl": [
           {
            "marker": {
             "colorbar": {
              "outlinewidth": 0,
              "ticks": ""
             }
            },
            "type": "scattergl"
           }
          ],
          "scattermapbox": [
           {
            "marker": {
             "colorbar": {
              "outlinewidth": 0,
              "ticks": ""
             }
            },
            "type": "scattermapbox"
           }
          ],
          "scatterpolar": [
           {
            "marker": {
             "colorbar": {
              "outlinewidth": 0,
              "ticks": ""
             }
            },
            "type": "scatterpolar"
           }
          ],
          "scatterpolargl": [
           {
            "marker": {
             "colorbar": {
              "outlinewidth": 0,
              "ticks": ""
             }
            },
            "type": "scatterpolargl"
           }
          ],
          "scatterternary": [
           {
            "marker": {
             "colorbar": {
              "outlinewidth": 0,
              "ticks": ""
             }
            },
            "type": "scatterternary"
           }
          ],
          "surface": [
           {
            "colorbar": {
             "outlinewidth": 0,
             "ticks": ""
            },
            "colorscale": [
             [
              0,
              "#0d0887"
             ],
             [
              0.1111111111111111,
              "#46039f"
             ],
             [
              0.2222222222222222,
              "#7201a8"
             ],
             [
              0.3333333333333333,
              "#9c179e"
             ],
             [
              0.4444444444444444,
              "#bd3786"
             ],
             [
              0.5555555555555556,
              "#d8576b"
             ],
             [
              0.6666666666666666,
              "#ed7953"
             ],
             [
              0.7777777777777778,
              "#fb9f3a"
             ],
             [
              0.8888888888888888,
              "#fdca26"
             ],
             [
              1,
              "#f0f921"
             ]
            ],
            "type": "surface"
           }
          ],
          "table": [
           {
            "cells": {
             "fill": {
              "color": "#EBF0F8"
             },
             "line": {
              "color": "white"
             }
            },
            "header": {
             "fill": {
              "color": "#C8D4E3"
             },
             "line": {
              "color": "white"
             }
            },
            "type": "table"
           }
          ]
         },
         "layout": {
          "annotationdefaults": {
           "arrowcolor": "#2a3f5f",
           "arrowhead": 0,
           "arrowwidth": 1
          },
          "autotypenumbers": "strict",
          "coloraxis": {
           "colorbar": {
            "outlinewidth": 0,
            "ticks": ""
           }
          },
          "colorscale": {
           "diverging": [
            [
             0,
             "#8e0152"
            ],
            [
             0.1,
             "#c51b7d"
            ],
            [
             0.2,
             "#de77ae"
            ],
            [
             0.3,
             "#f1b6da"
            ],
            [
             0.4,
             "#fde0ef"
            ],
            [
             0.5,
             "#f7f7f7"
            ],
            [
             0.6,
             "#e6f5d0"
            ],
            [
             0.7,
             "#b8e186"
            ],
            [
             0.8,
             "#7fbc41"
            ],
            [
             0.9,
             "#4d9221"
            ],
            [
             1,
             "#276419"
            ]
           ],
           "sequential": [
            [
             0,
             "#0d0887"
            ],
            [
             0.1111111111111111,
             "#46039f"
            ],
            [
             0.2222222222222222,
             "#7201a8"
            ],
            [
             0.3333333333333333,
             "#9c179e"
            ],
            [
             0.4444444444444444,
             "#bd3786"
            ],
            [
             0.5555555555555556,
             "#d8576b"
            ],
            [
             0.6666666666666666,
             "#ed7953"
            ],
            [
             0.7777777777777778,
             "#fb9f3a"
            ],
            [
             0.8888888888888888,
             "#fdca26"
            ],
            [
             1,
             "#f0f921"
            ]
           ],
           "sequentialminus": [
            [
             0,
             "#0d0887"
            ],
            [
             0.1111111111111111,
             "#46039f"
            ],
            [
             0.2222222222222222,
             "#7201a8"
            ],
            [
             0.3333333333333333,
             "#9c179e"
            ],
            [
             0.4444444444444444,
             "#bd3786"
            ],
            [
             0.5555555555555556,
             "#d8576b"
            ],
            [
             0.6666666666666666,
             "#ed7953"
            ],
            [
             0.7777777777777778,
             "#fb9f3a"
            ],
            [
             0.8888888888888888,
             "#fdca26"
            ],
            [
             1,
             "#f0f921"
            ]
           ]
          },
          "colorway": [
           "#636efa",
           "#EF553B",
           "#00cc96",
           "#ab63fa",
           "#FFA15A",
           "#19d3f3",
           "#FF6692",
           "#B6E880",
           "#FF97FF",
           "#FECB52"
          ],
          "font": {
           "color": "#2a3f5f"
          },
          "geo": {
           "bgcolor": "white",
           "lakecolor": "white",
           "landcolor": "white",
           "showlakes": true,
           "showland": true,
           "subunitcolor": "#C8D4E3"
          },
          "hoverlabel": {
           "align": "left"
          },
          "hovermode": "closest",
          "mapbox": {
           "style": "light"
          },
          "paper_bgcolor": "white",
          "plot_bgcolor": "white",
          "polar": {
           "angularaxis": {
            "gridcolor": "#EBF0F8",
            "linecolor": "#EBF0F8",
            "ticks": ""
           },
           "bgcolor": "white",
           "radialaxis": {
            "gridcolor": "#EBF0F8",
            "linecolor": "#EBF0F8",
            "ticks": ""
           }
          },
          "scene": {
           "xaxis": {
            "backgroundcolor": "white",
            "gridcolor": "#DFE8F3",
            "gridwidth": 2,
            "linecolor": "#EBF0F8",
            "showbackground": true,
            "ticks": "",
            "zerolinecolor": "#EBF0F8"
           },
           "yaxis": {
            "backgroundcolor": "white",
            "gridcolor": "#DFE8F3",
            "gridwidth": 2,
            "linecolor": "#EBF0F8",
            "showbackground": true,
            "ticks": "",
            "zerolinecolor": "#EBF0F8"
           },
           "zaxis": {
            "backgroundcolor": "white",
            "gridcolor": "#DFE8F3",
            "gridwidth": 2,
            "linecolor": "#EBF0F8",
            "showbackground": true,
            "ticks": "",
            "zerolinecolor": "#EBF0F8"
           }
          },
          "shapedefaults": {
           "line": {
            "color": "#2a3f5f"
           }
          },
          "ternary": {
           "aaxis": {
            "gridcolor": "#DFE8F3",
            "linecolor": "#A2B1C6",
            "ticks": ""
           },
           "baxis": {
            "gridcolor": "#DFE8F3",
            "linecolor": "#A2B1C6",
            "ticks": ""
           },
           "bgcolor": "white",
           "caxis": {
            "gridcolor": "#DFE8F3",
            "linecolor": "#A2B1C6",
            "ticks": ""
           }
          },
          "title": {
           "x": 0.05
          },
          "xaxis": {
           "automargin": true,
           "gridcolor": "#EBF0F8",
           "linecolor": "#EBF0F8",
           "ticks": "",
           "title": {
            "standoff": 15
           },
           "zerolinecolor": "#EBF0F8",
           "zerolinewidth": 2
          },
          "yaxis": {
           "automargin": true,
           "gridcolor": "#EBF0F8",
           "linecolor": "#EBF0F8",
           "ticks": "",
           "title": {
            "standoff": 15
           },
           "zerolinecolor": "#EBF0F8",
           "zerolinewidth": 2
          }
         }
        },
        "xaxis": {
         "anchor": "y",
         "autorange": true,
         "domain": [
          0,
          1
         ],
         "range": [
          -12.15060245173526,
          6.843742958479645
         ],
         "title": {
          "text": "x"
         },
         "type": "linear"
        },
        "yaxis": {
         "anchor": "x",
         "autorange": true,
         "domain": [
          0,
          1
         ],
         "range": [
          -8.227328377445852,
          12.735890942295706
         ],
         "title": {
          "text": "y"
         },
         "type": "linear"
        }
       }
      },
      "image/png": "[encoded data removed]",
      "text/html": [
       "<div>                            <div id=\"9c498505-0e00-4ffa-ac71-ada85efa007a\" class=\"plotly-graph-div\" style=\"height:525px; width:100%;\"></div>            <script type=\"text/javascript\">                require([\"plotly\"], function(Plotly) {                    window.PLOTLYENV=window.PLOTLYENV || {};                                    if (document.getElementById(\"9c498505-0e00-4ffa-ac71-ada85efa007a\")) {                    Plotly.newPlot(                        \"9c498505-0e00-4ffa-ac71-ada85efa007a\",                        [{\"hovertemplate\":\"color=Paris\\u003cbr\\u003ex=%{x}\\u003cbr\\u003ey=%{y}\\u003cbr\\u003etext=%{text}\\u003cextra\\u003e\\u003c\\u002fextra\\u003e\",\"legendgroup\":\"Paris\",\"marker\":{\"color\":\"#636efa\",\"symbol\":\"circle\"},\"mode\":\"markers+text\",\"name\":\"Paris\",\"orientation\":\"v\",\"showlegend\":true,\"text\":[\"Parisian\",\"Hopital_Europeen_Georges_Pompidou\",\"Spyker_D##_Peking\",\"France\",\"Pantheon_Sorbonne\",\"Aeroports_De\",\"Grigny_south\",\"Place_Denfert_Rochereau\",\"guest_Olivier_Dolige\",\"Lazard_Freres_Banque\"],\"x\":[-0.779754102230072,0.056955184787511826,-0.1104932501912117,1.1375248432159424,-0.732507586479187,-0.7420397996902466,0.8677317500114441,0.06419198215007782,0.49653562903404236,-0.3167882263660431],\"xaxis\":\"x\",\"y\":[-0.98616623878479,0.1143478974699974,0.9114890098571777,-0.4864703416824341,1.1976125240325928,0.3804958760738373,1.2672711610794067,1.3420519828796387,0.5591169595718384,0.49992966651916504],\"yaxis\":\"y\",\"type\":\"scatter\",\"textposition\":\"top center\"},{\"hovertemplate\":\"color=Python\\u003cbr\\u003ex=%{x}\\u003cbr\\u003ey=%{y}\\u003cbr\\u003etext=%{text}\\u003cextra\\u003e\\u003c\\u002fextra\\u003e\",\"legendgroup\":\"Python\",\"marker\":{\"color\":\"#EF553B\",\"symbol\":\"circle\"},\"mode\":\"markers+text\",\"name\":\"Python\",\"orientation\":\"v\",\"showlegend\":true,\"text\":[\"Jython\",\"Perl_Python\",\"IronPython\",\"scripting_languages\",\"PHP_Perl\",\"Java_Python\",\"PHP\",\"Python_Ruby\",\"Visual_Basic\",\"Perl\"],\"x\":[-5.180268287658691,-4.578372955322266,-6.0506696701049805,-4.74181604385376,-4.029825210571289,-4.103354454040527,-5.296695709228516,-4.263185501098633,-6.305078029632568,-5.339724540710449],\"xaxis\":\"x\",\"y\":[-1.1590428352355957,-1.652467966079712,-1.482826590538025,-3.0310163497924805,-1.5302813053131104,-0.747410774230957,-2.4771676063537598,-1.0343432426452637,-2.955019474029541,-0.2327825129032135],\"yaxis\":\"y\",\"type\":\"scatter\",\"textposition\":\"top center\"},{\"hovertemplate\":\"color=Sunday\\u003cbr\\u003ex=%{x}\\u003cbr\\u003ey=%{y}\\u003cbr\\u003etext=%{text}\\u003cextra\\u003e\\u003c\\u002fextra\\u003e\",\"legendgroup\":\"Sunday\",\"marker\":{\"color\":\"#00cc96\",\"symbol\":\"circle\"},\"mode\":\"markers+text\",\"name\":\"Sunday\",\"orientation\":\"v\",\"showlegend\":true,\"text\":[\"Saturday\",\"Friday\",\"Monday\",\"Thursday\",\"Wednesday\",\"Tuesday\",\"evening\",\"afternoon\",\"Thurday\",\"Feb.\"],\"x\":[3.5606439113616943,4.339608192443848,4.160371780395508,4.679421901702881,4.863581657409668,4.441736698150635,3.349820852279663,3.802670955657959,5.410578727722168,5.626404285430908],\"xaxis\":\"x\",\"y\":[1.6390382051467896,1.8670463562011719,1.1083406209945679,1.5403242111206055,1.2930163145065308,0.867760181427002,2.8670899868011475,2.947718858718872,2.3634345531463623,0.4276009202003479],\"yaxis\":\"y\",\"type\":\"scatter\",\"textposition\":\"top center\"},{\"hovertemplate\":\"color=Tolstoy\\u003cbr\\u003ex=%{x}\\u003cbr\\u003ey=%{y}\\u003cbr\\u003etext=%{text}\\u003cextra\\u003e\\u003c\\u002fextra\\u003e\",\"legendgroup\":\"Tolstoy\",\"marker\":{\"color\":\"#ab63fa\",\"symbol\":\"circle\"},\"mode\":\"markers+text\",\"name\":\"Tolstoy\",\"orientation\":\"v\",\"showlegend\":true,\"text\":[\"Leo_Tolstoy\",\"writer_Leo_Tolstoy\",\"Dostoevsky\",\"novelist_Leo_Tolstoy\",\"Tolstoys\",\"Chekhov\",\"Anna_Karenina\",\"Dostoyevsky\",\"Maxim_Gorky\",\"Turgenev\"],\"x\":[-3.184540271759033,-2.1706008911132812,-2.582606315612793,-1.64967679977417,-0.9059668779373169,-1.2303134202957153,-0.28821322321891785,-2.6586790084838867,-1.862805962562561,-1.2843760251998901],\"xaxis\":\"x\",\"y\":[3.5386524200439453,3.198141574859619,6.0167412757873535,3.2575526237487793,2.943760633468628,5.739903450012207,4.141168117523193,6.0609869956970215,4.5827956199646,4.622249603271484],\"yaxis\":\"y\",\"type\":\"scatter\",\"textposition\":\"top center\"},{\"hovertemplate\":\"color=Twitter\\u003cbr\\u003ex=%{x}\\u003cbr\\u003ey=%{y}\\u003cbr\\u003etext=%{text}\\u003cextra\\u003e\\u003c\\u002fextra\\u003e\",\"legendgroup\":\"Twitter\",\"marker\":{\"color\":\"#FFA15A\",\"symbol\":\"circle\"},\"mode\":\"markers+text\",\"name\":\"Twitter\",\"orientation\":\"v\",\"showlegend\":true,\"text\":[\"twitter\",\"Twitter.com\",\"Facebook\",\"tweet\",\"tweets\",\"Tweet\",\"tweeting\",\"Tweets\",\"TwitterTwitter\",\"Tweeting\"],\"x\":[5.387767314910889,5.805980205535889,4.1366682052612305,4.567704677581787,3.9671268463134766,4.412398338317871,5.427578449249268,3.7393853664398193,4.027704238891602,5.631469249725342],\"xaxis\":\"x\",\"y\":[9.835887908935547,9.170615196228027,8.882182121276855,10.612455368041992,11.038237571716309,10.350208282470703,11.155242919921875,10.909194946289062,9.186101913452148,11.330402374267578],\"yaxis\":\"y\",\"type\":\"scatter\",\"textposition\":\"top center\"},{\"hovertemplate\":\"color=food\\u003cbr\\u003ex=%{x}\\u003cbr\\u003ey=%{y}\\u003cbr\\u003etext=%{text}\\u003cextra\\u003e\\u003c\\u002fextra\\u003e\",\"legendgroup\":\"food\",\"marker\":{\"color\":\"#19d3f3\",\"symbol\":\"circle\"},\"mode\":\"markers+text\",\"name\":\"food\",\"orientation\":\"v\",\"showlegend\":true,\"text\":[\"foods\",\"Food\",\"foodstuffs\",\"meals\",\"food_stuffs\",\"nourishing_meals\",\"foodstuff\",\"staple_foods\",\"nutritious\",\"meal\"],\"x\":[2.281439781188965,0.7731828093528748,0.7139724493026733,3.474287271499634,0.5912778973579407,2.8612213134765625,0.49367067217826843,0.9658429026603699,2.764754056930542,3.6331849098205566],\"xaxis\":\"x\",\"y\":[-4.718934059143066,-2.521388292312622,-5.75601053237915,-3.16617751121521,-6.0217156410217285,-3.418165683746338,-5.667943954467773,-6.821839809417725,-4.366796016693115,-3.068984031677246],\"yaxis\":\"y\",\"type\":\"scatter\",\"textposition\":\"top center\"},{\"hovertemplate\":\"color=iOS\\u003cbr\\u003ex=%{x}\\u003cbr\\u003ey=%{y}\\u003cbr\\u003etext=%{text}\\u003cextra\\u003e\\u003c\\u002fextra\\u003e\",\"legendgroup\":\"iOS\",\"marker\":{\"color\":\"#FF6692\",\"symbol\":\"circle\"},\"mode\":\"markers+text\",\"name\":\"iOS\",\"orientation\":\"v\",\"showlegend\":true,\"text\":[\"iPhone_OS\",\"Apple_iOS\",\"iOS4\",\"iPhone\",\"iOS_devices\",\"iOS#.#\",\"Android\",\"Android_OS\",\"iOS_#.#.#\",\"BlackBerry_OS\"],\"x\":[-10.287941932678223,-10.032815933227539,-9.743504524230957,-9.19796371459961,-8.874974250793457,-8.449601173400879,-11.03790283203125,-11.112839698791504,-8.946189880371094,-11.094746589660645],\"xaxis\":\"x\",\"y\":[1.260501503944397,0.2352321892976761,1.9719312191009521,0.5510613918304443,0.16052645444869995,1.0200384855270386,0.452585369348526,0.6140643954277039,2.4088382720947266,1.805776596069336],\"yaxis\":\"y\",\"type\":\"scatter\",\"textposition\":\"top center\"}],                        {\"template\":{\"data\":{\"barpolar\":[{\"marker\":{\"line\":{\"color\":\"white\",\"width\":0.5},\"pattern\":{\"fillmode\":\"overlay\",\"size\":10,\"solidity\":0.2}},\"type\":\"barpolar\"}],\"bar\":[{\"error_x\":{\"color\":\"#2a3f5f\"},\"error_y\":{\"color\":\"#2a3f5f\"},\"marker\":{\"line\":{\"color\":\"white\",\"width\":0.5},\"pattern\":{\"fillmode\":\"overlay\",\"size\":10,\"solidity\":0.2}},\"type\":\"bar\"}],\"carpet\":[{\"aaxis\":{\"endlinecolor\":\"#2a3f5f\",\"gridcolor\":\"#C8D4E3\",\"linecolor\":\"#C8D4E3\",\"minorgridcolor\":\"#C8D4E3\",\"startlinecolor\":\"#2a3f5f\"},\"baxis\":{\"endlinecolor\":\"#2a3f5f\",\"gridcolor\":\"#C8D4E3\",\"linecolor\":\"#C8D4E3\",\"minorgridcolor\":\"#C8D4E3\",\"startlinecolor\":\"#2a3f5f\"},\"type\":\"carpet\"}],\"choropleth\":[{\"colorbar\":{\"outlinewidth\":0,\"ticks\":\"\"},\"type\":\"choropleth\"}],\"contourcarpet\":[{\"colorbar\":{\"outlinewidth\":0,\"ticks\":\"\"},\"type\":\"contourcarpet\"}],\"contour\":[{\"colorbar\":{\"outlinewidth\":0,\"ticks\":\"\"},\"colorscale\":[[0.0,\"#0d0887\"],[0.1111111111111111,\"#46039f\"],[0.2222222222222222,\"#7201a8\"],[0.3333333333333333,\"#9c179e\"],[0.4444444444444444,\"#bd3786\"],[0.5555555555555556,\"#d8576b\"],[0.6666666666666666,\"#ed7953\"],[0.7777777777777778,\"#fb9f3a\"],[0.8888888888888888,\"#fdca26\"],[1.0,\"#f0f921\"]],\"type\":\"contour\"}],\"heatmapgl\":[{\"colorbar\":{\"outlinewidth\":0,\"ticks\":\"\"},\"colorscale\":[[0.0,\"#0d0887\"],[0.1111111111111111,\"#46039f\"],[0.2222222222222222,\"#7201a8\"],[0.3333333333333333,\"#9c179e\"],[0.4444444444444444,\"#bd3786\"],[0.5555555555555556,\"#d8576b\"],[0.6666666666666666,\"#ed7953\"],[0.7777777777777778,\"#fb9f3a\"],[0.8888888888888888,\"#fdca26\"],[1.0,\"#f0f921\"]],\"type\":\"heatmapgl\"}],\"heatmap\":[{\"colorbar\":{\"outlinewidth\":0,\"ticks\":\"\"},\"colorscale\":[[0.0,\"#0d0887\"],[0.1111111111111111,\"#46039f\"],[0.2222222222222222,\"#7201a8\"],[0.3333333333333333,\"#9c179e\"],[0.4444444444444444,\"#bd3786\"],[0.5555555555555556,\"#d8576b\"],[0.6666666666666666,\"#ed7953\"],[0.7777777777777778,\"#fb9f3a\"],[0.8888888888888888,\"#fdca26\"],[1.0,\"#f0f921\"]],\"type\":\"heatmap\"}],\"histogram2dcontour\":[{\"colorbar\":{\"outlinewidth\":0,\"ticks\":\"\"},\"colorscale\":[[0.0,\"#0d0887\"],[0.1111111111111111,\"#46039f\"],[0.2222222222222222,\"#7201a8\"],[0.3333333333333333,\"#9c179e\"],[0.4444444444444444,\"#bd3786\"],[0.5555555555555556,\"#d8576b\"],[0.6666666666666666,\"#ed7953\"],[0.7777777777777778,\"#fb9f3a\"],[0.8888888888888888,\"#fdca26\"],[1.0,\"#f0f921\"]],\"type\":\"histogram2dcontour\"}],\"histogram2d\":[{\"colorbar\":{\"outlinewidth\":0,\"ticks\":\"\"},\"colorscale\":[[0.0,\"#0d0887\"],[0.1111111111111111,\"#46039f\"],[0.2222222222222222,\"#7201a8\"],[0.3333333333333333,\"#9c179e\"],[0.4444444444444444,\"#bd3786\"],[0.5555555555555556,\"#d8576b\"],[0.6666666666666666,\"#ed7953\"],[0.7777777777777778,\"#fb9f3a\"],[0.8888888888888888,\"#fdca26\"],[1.0,\"#f0f921\"]],\"type\":\"histogram2d\"}],\"histogram\":[{\"marker\":{\"pattern\":{\"fillmode\":\"overlay\",\"size\":10,\"solidity\":0.2}},\"type\":\"histogram\"}],\"mesh3d\":[{\"colorbar\":{\"outlinewidth\":0,\"ticks\":\"\"},\"type\":\"mesh3d\"}],\"parcoords\":[{\"line\":{\"colorbar\":{\"outlinewidth\":0,\"ticks\":\"\"}},\"type\":\"parcoords\"}],\"pie\":[{\"automargin\":true,\"type\":\"pie\"}],\"scatter3d\":[{\"line\":{\"colorbar\":{\"outlinewidth\":0,\"ticks\":\"\"}},\"marker\":{\"colorbar\":{\"outlinewidth\":0,\"ticks\":\"\"}},\"type\":\"scatter3d\"}],\"scattercarpet\":[{\"marker\":{\"colorbar\":{\"outlinewidth\":0,\"ticks\":\"\"}},\"type\":\"scattercarpet\"}],\"scattergeo\":[{\"marker\":{\"colorbar\":{\"outlinewidth\":0,\"ticks\":\"\"}},\"type\":\"scattergeo\"}],\"scattergl\":[{\"marker\":{\"colorbar\":{\"outlinewidth\":0,\"ticks\":\"\"}},\"type\":\"scattergl\"}],\"scattermapbox\":[{\"marker\":{\"colorbar\":{\"outlinewidth\":0,\"ticks\":\"\"}},\"type\":\"scattermapbox\"}],\"scatterpolargl\":[{\"marker\":{\"colorbar\":{\"outlinewidth\":0,\"ticks\":\"\"}},\"type\":\"scatterpolargl\"}],\"scatterpolar\":[{\"marker\":{\"colorbar\":{\"outlinewidth\":0,\"ticks\":\"\"}},\"type\":\"scatterpolar\"}],\"scatter\":[{\"fillpattern\":{\"fillmode\":\"overlay\",\"size\":10,\"solidity\":0.2},\"type\":\"scatter\"}],\"scatterternary\":[{\"marker\":{\"colorbar\":{\"outlinewidth\":0,\"ticks\":\"\"}},\"type\":\"scatterternary\"}],\"surface\":[{\"colorbar\":{\"outlinewidth\":0,\"ticks\":\"\"},\"colorscale\":[[0.0,\"#0d0887\"],[0.1111111111111111,\"#46039f\"],[0.2222222222222222,\"#7201a8\"],[0.3333333333333333,\"#9c179e\"],[0.4444444444444444,\"#bd3786\"],[0.5555555555555556,\"#d8576b\"],[0.6666666666666666,\"#ed7953\"],[0.7777777777777778,\"#fb9f3a\"],[0.8888888888888888,\"#fdca26\"],[1.0,\"#f0f921\"]],\"type\":\"surface\"}],\"table\":[{\"cells\":{\"fill\":{\"color\":\"#EBF0F8\"},\"line\":{\"color\":\"white\"}},\"header\":{\"fill\":{\"color\":\"#C8D4E3\"},\"line\":{\"color\":\"white\"}},\"type\":\"table\"}]},\"layout\":{\"annotationdefaults\":{\"arrowcolor\":\"#2a3f5f\",\"arrowhead\":0,\"arrowwidth\":1},\"autotypenumbers\":\"strict\",\"coloraxis\":{\"colorbar\":{\"outlinewidth\":0,\"ticks\":\"\"}},\"colorscale\":{\"diverging\":[[0,\"#8e0152\"],[0.1,\"#c51b7d\"],[0.2,\"#de77ae\"],[0.3,\"#f1b6da\"],[0.4,\"#fde0ef\"],[0.5,\"#f7f7f7\"],[0.6,\"#e6f5d0\"],[0.7,\"#b8e186\"],[0.8,\"#7fbc41\"],[0.9,\"#4d9221\"],[1,\"#276419\"]],\"sequential\":[[0.0,\"#0d0887\"],[0.1111111111111111,\"#46039f\"],[0.2222222222222222,\"#7201a8\"],[0.3333333333333333,\"#9c179e\"],[0.4444444444444444,\"#bd3786\"],[0.5555555555555556,\"#d8576b\"],[0.6666666666666666,\"#ed7953\"],[0.7777777777777778,\"#fb9f3a\"],[0.8888888888888888,\"#fdca26\"],[1.0,\"#f0f921\"]],\"sequentialminus\":[[0.0,\"#0d0887\"],[0.1111111111111111,\"#46039f\"],[0.2222222222222222,\"#7201a8\"],[0.3333333333333333,\"#9c179e\"],[0.4444444444444444,\"#bd3786\"],[0.5555555555555556,\"#d8576b\"],[0.6666666666666666,\"#ed7953\"],[0.7777777777777778,\"#fb9f3a\"],[0.8888888888888888,\"#fdca26\"],[1.0,\"#f0f921\"]]},\"colorway\":[\"#636efa\",\"#EF553B\",\"#00cc96\",\"#ab63fa\",\"#FFA15A\",\"#19d3f3\",\"#FF6692\",\"#B6E880\",\"#FF97FF\",\"#FECB52\"],\"font\":{\"color\":\"#2a3f5f\"},\"geo\":{\"bgcolor\":\"white\",\"lakecolor\":\"white\",\"landcolor\":\"white\",\"showlakes\":true,\"showland\":true,\"subunitcolor\":\"#C8D4E3\"},\"hoverlabel\":{\"align\":\"left\"},\"hovermode\":\"closest\",\"mapbox\":{\"style\":\"light\"},\"paper_bgcolor\":\"white\",\"plot_bgcolor\":\"white\",\"polar\":{\"angularaxis\":{\"gridcolor\":\"#EBF0F8\",\"linecolor\":\"#EBF0F8\",\"ticks\":\"\"},\"bgcolor\":\"white\",\"radialaxis\":{\"gridcolor\":\"#EBF0F8\",\"linecolor\":\"#EBF0F8\",\"ticks\":\"\"}},\"scene\":{\"xaxis\":{\"backgroundcolor\":\"white\",\"gridcolor\":\"#DFE8F3\",\"gridwidth\":2,\"linecolor\":\"#EBF0F8\",\"showbackground\":true,\"ticks\":\"\",\"zerolinecolor\":\"#EBF0F8\"},\"yaxis\":{\"backgroundcolor\":\"white\",\"gridcolor\":\"#DFE8F3\",\"gridwidth\":2,\"linecolor\":\"#EBF0F8\",\"showbackground\":true,\"ticks\":\"\",\"zerolinecolor\":\"#EBF0F8\"},\"zaxis\":{\"backgroundcolor\":\"white\",\"gridcolor\":\"#DFE8F3\",\"gridwidth\":2,\"linecolor\":\"#EBF0F8\",\"showbackground\":true,\"ticks\":\"\",\"zerolinecolor\":\"#EBF0F8\"}},\"shapedefaults\":{\"line\":{\"color\":\"#2a3f5f\"}},\"ternary\":{\"aaxis\":{\"gridcolor\":\"#DFE8F3\",\"linecolor\":\"#A2B1C6\",\"ticks\":\"\"},\"baxis\":{\"gridcolor\":\"#DFE8F3\",\"linecolor\":\"#A2B1C6\",\"ticks\":\"\"},\"bgcolor\":\"white\",\"caxis\":{\"gridcolor\":\"#DFE8F3\",\"linecolor\":\"#A2B1C6\",\"ticks\":\"\"}},\"title\":{\"x\":0.05},\"xaxis\":{\"automargin\":true,\"gridcolor\":\"#EBF0F8\",\"linecolor\":\"#EBF0F8\",\"ticks\":\"\",\"title\":{\"standoff\":15},\"zerolinecolor\":\"#EBF0F8\",\"zerolinewidth\":2},\"yaxis\":{\"automargin\":true,\"gridcolor\":\"#EBF0F8\",\"linecolor\":\"#EBF0F8\",\"ticks\":\"\",\"title\":{\"standoff\":15},\"zerolinecolor\":\"#EBF0F8\",\"zerolinewidth\":2}}},\"xaxis\":{\"anchor\":\"y\",\"domain\":[0.0,1.0],\"title\":{\"text\":\"x\"}},\"yaxis\":{\"anchor\":\"x\",\"domain\":[0.0,1.0],\"title\":{\"text\":\"y\"}},\"legend\":{\"title\":{\"text\":\"color\"},\"tracegroupgap\":0},\"margin\":{\"t\":60}},                        {\"responsive\": true}                    ).then(function(){\n",
       "                            \n",
       "var gd = document.getElementById('9c498505-0e00-4ffa-ac71-ada85efa007a');\n",
       "var x = new MutationObserver(function (mutations, observer) {{\n",
       "        var display = window.getComputedStyle(gd).display;\n",
       "        if (!display || display === 'none') {{\n",
       "            console.log([gd, 'removed!']);\n",
       "            Plotly.purge(gd);\n",
       "            observer.disconnect();\n",
       "        }}\n",
       "}});\n",
       "\n",
       "// Listen for the removal of the full notebook cells\n",
       "var notebookContainer = gd.closest('#notebook-container');\n",
       "if (notebookContainer) {{\n",
       "    x.observe(notebookContainer, {childList: true});\n",
       "}}\n",
       "\n",
       "// Listen for the clearing of the current output cell\n",
       "var outputEl = gd.closest('.output');\n",
       "if (outputEl) {{\n",
       "    x.observe(outputEl, {childList: true});\n",
       "}}\n",
       "\n",
       "                        })                };                });            </script>        </div>"
      ]
     },
     "metadata": {},
     "output_type": "display_data"
    }
   ],
   "source": [
    "fig = px.scatter(\n",
    "    x=embeddings[:, 0],\n",
    "    y=embeddings[:, 1],\n",
    "    color=clusters,\n",
    "    template=\"plotly_white\",\n",
    "    text=words\n",
    ")\n",
    "fig.update_traces(textposition=\"top center\")\n",
    "fig.show()"
   ]
  },
  {
   "cell_type": "code",
   "execution_count": null,
   "metadata": {},
   "outputs": [],
   "source": [
    "    "
   ]
  }
 ],
 "metadata": {
  "kernelspec": {
   "display_name": "Python 3 (ipykernel)",
   "language": "python",
   "name": "python3"
  },
  "language_info": {
   "codemirror_mode": {
    "name": "ipython",
    "version": 3
   },
   "file_extension": ".py",
   "mimetype": "text/x-python",
   "name": "python",
   "nbconvert_exporter": "python",
   "pygments_lexer": "ipython3",
   "version": "3.12.4"
  }
 },
 "nbformat": 4,
 "nbformat_minor": 4
}
